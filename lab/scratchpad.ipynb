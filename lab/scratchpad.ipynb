{
 "cells": [
  {
   "cell_type": "code",
   "execution_count": 1,
   "metadata": {},
   "outputs": [],
   "source": [
    "import os\n",
    "os.environ[\"CUDA_VISIBLE_DEVICES\"] = \"0\"\n",
    "\n",
    "import torch\n",
    "\n",
    "import triton\n",
    "import triton.language as tl"
   ]
  },
  {
   "cell_type": "code",
   "execution_count": 19,
   "metadata": {},
   "outputs": [
    {
     "name": "stdout",
     "output_type": "stream",
     "text": [
      "tensor([[ 1,  2,  3,  4,  5,  6,  7],\n",
      "        [ 8,  9, 10, 11, 12, 13, 14],\n",
      "        [15, 16, 17, 18, 19, 20, 21],\n",
      "        [22, 23, 24, 25, 26, 27, 28],\n",
      "        [29, 30, 31, 32, 33, 34, 35]], device='cuda:0')\n",
      "tensor([[36, 37, 38, 39, 40],\n",
      "        [41, 42, 43, 44, 45],\n",
      "        [46, 47, 48, 49, 50],\n",
      "        [51, 52, 53, 54, 55],\n",
      "        [56, 57, 58, 59, 60],\n",
      "        [61, 62, 63, 64, 65],\n",
      "        [66, 67, 68, 69, 70]], device='cuda:0')\n",
      "tensor([[  36.,   74.,  138.,  188.,  280.],\n",
      "        [   0.,    0.,  328.,  378.,  510.],\n",
      "        [ 572.,  732.,    0.,    0.,  570.],\n",
      "        [ 624.,  816.,  882., 1102.,    0.],\n",
      "        [   0.,  946., 1012., 1272., 1350.]], device='cuda:0')\n"
     ]
    }
   ],
   "source": [
    "def cdiv(a,b): return (a + b - 1) // b\n",
    "\n",
    "@triton.jit\n",
    "def matmul(x_ptr, y_ptr, out_ptr, dx0, dx1, dy0, dy1, bs0: tl.constexpr, bs1: tl.constexpr):\n",
    "    pid_0 = tl.program_id(0)\n",
    "    pid_1 = tl.program_id(1)\n",
    "    \n",
    "    offs_0 = pid_0 * bs0 + tl.arange(0,bs0)  # 1d vector\n",
    "    offs_1 = pid_1 * bs1 + tl.arange(0,bs1)  # 1d vector\n",
    "\n",
    "    offs_x = dx1 * offs_0[:,None] + offs_1[None, :]  # 2d matrix! - we multiply first offset by width, see image above\n",
    "    mask_x_0 = offs_0 < dx0\n",
    "    mask_x_1 = offs_1 < dx1\n",
    "    mask_x = mask_x_0[:,None] & mask_x_1[None, :]\n",
    "    x = tl.load(x_ptr + offs_x, mask=mask_x)\n",
    "    \n",
    "    offs_y = dy1 * offs_1[:,None] + offs_0[None, :]\n",
    "    mask_y_0 = offs_0 < dy0\n",
    "    mask_y_1 = offs_1 < dy1\n",
    "    mask_y = mask_y_0[:,None] & mask_y_1[None, :]\n",
    "    y = tl.load(y_ptr + offs_y, mask=mask_y)\n",
    "    \n",
    "    out = x * y\n",
    "    \n",
    "    tl.store(out_ptr + offs_x, out, mask=mask_x)\n",
    "\n",
    "d0 = 5\n",
    "d1 = 7\n",
    "bs0 = 2\n",
    "bs1 = 2\n",
    "x = torch.arange(1, d0*d1+1).reshape(d0, d1).to(\"cuda\")\n",
    "y = torch.arange(d0*d1+1, 2*d0*d1+1).reshape(d1, d0).to(\"cuda\")\n",
    "print(x)\n",
    "print(y)\n",
    "\n",
    "grid = lambda meta: (cdiv(d0, meta['bs0']), cdiv(d1,  meta['bs1']))\n",
    "out = torch.zeros(d0, d0, device=\"cuda\")\n",
    "matmul[grid](x, y, out, d0, d1, d1, d0, bs0=bs0, bs1=bs1)\n",
    "\n",
    "print(out)"
   ]
  }
 ],
 "metadata": {
  "kernelspec": {
   "display_name": "zeel_py310",
   "language": "python",
   "name": "python3"
  },
  "language_info": {
   "codemirror_mode": {
    "name": "ipython",
    "version": 3
   },
   "file_extension": ".py",
   "mimetype": "text/x-python",
   "name": "python",
   "nbconvert_exporter": "python",
   "pygments_lexer": "ipython3",
   "version": "3.10.15"
  }
 },
 "nbformat": 4,
 "nbformat_minor": 2
}
