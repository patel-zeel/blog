{
 "cells": [
  {
   "cell_type": "raw",
   "metadata": {},
   "source": [
    "---\n",
    "aliases:\n",
    "- /ML/2022/03/06/probabilistic-machine-learning\n",
    "author: Zeel B Patel\n",
    "badges: true\n",
    "categories:\n",
    "- ML\n",
    "date: '2022-03-06'\n",
    "description: A video lecture series from Prof. Philipp Hennig\n",
    "output-file: 2022-03-06-probabilistic-machine-learning.html\n",
    "title: Probabilistic Machine Learning\n",
    "toc: true\n",
    "\n",
    "---\n",
    "\n"
   ]
  },
  {
   "cell_type": "markdown",
   "id": "4b28bb36",
   "metadata": {},
   "source": [
    "## 1 - Introduction\n",
    "\n",
    "> An inference problem requires statements about the value of an unobserved (latent) variable x based on\n",
    "observations y which are related to x, but may not be sufficient to fully determine x. This requires a\n",
    "notion of uncertainty.\n",
    "\n",
    "We can define the following rules because $p(E) = 1$ for any event $E$.\n",
    "\n",
    "* Sum rule: $p(E) = p(E|A) + p(E|\\neg A)$    \n",
    "* Product rule: $p(E, A) = p(E|A)p(A) = p(A|E)p(E)$    \n",
    "* Bayes' theorem: $p(E|A) = \\frac{p(A|E)p(E)}{p(A)}$"
   ]
  }
 ],
 "metadata": {
  "kernelspec": {
   "display_name": "Python 3",
   "language": "python",
   "name": "python3"
  },
  "language_info": {
   "codemirror_mode": {
    "name": "ipython",
    "version": 3
   },
   "file_extension": ".py",
   "mimetype": "text/x-python",
   "name": "python",
   "nbconvert_exporter": "python",
   "pygments_lexer": "ipython3",
   "version": "3.8.12"
  }
 },
 "nbformat": 4,
 "nbformat_minor": 5
}
