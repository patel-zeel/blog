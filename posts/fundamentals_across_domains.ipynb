{
 "cells": [
  {
   "cell_type": "markdown",
   "metadata": {},
   "source": [
    "---\n",
    "author: Zeel B Patel\n",
    "badges: true\n",
    "categories: ML\n",
    "description: Knowledge transfer between ML domains\n",
    "title: Fundamentals across ML domains\n",
    "date: '2024-06-25'\n",
    "toc: true\n",
    "---"
   ]
  },
  {
   "cell_type": "markdown",
   "metadata": {},
   "source": [
    "# Similarities among ML domains"
   ]
  },
  {
   "cell_type": "markdown",
   "metadata": {},
   "source": [
    "| NN | Transformer | CNN | \n",
    "| --- | --- | --- |\n",
    "| - | Multi-head | Multi-channel | \n",
    "| - | Skip-connection | ResNet |"
   ]
  },
  {
   "cell_type": "markdown",
   "metadata": {},
   "source": [
    "# Progress of Natural Language Processing"
   ]
  },
  {
   "cell_type": "markdown",
   "metadata": {},
   "source": [
    "| Model | Main Disadvantage | Solved by | How? |\n",
    "| --- | --- | --- | --- |\n",
    "| NN | Can't handle dynamic length input | RNN | RNN can handle dynamic length input |\n",
    "| RNN | Vanishing Gradient Problem | LSTM | LSTM can handle vanishing gradient problem |\n",
    "| LSTM | Non parallelizable | Transformer | Transformer can parallelize the computation |\n",
    "| Trasformer| losses sequentiality | Transformer | Positional Encoding |"
   ]
  }
 ],
 "metadata": {
  "language_info": {
   "name": "python"
  }
 },
 "nbformat": 4,
 "nbformat_minor": 2
}
