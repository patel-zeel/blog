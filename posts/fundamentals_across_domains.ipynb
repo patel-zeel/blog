{
 "cells": [
  {
   "cell_type": "markdown",
   "metadata": {},
   "source": [
    "---\n",
    "author: Zeel B Patel\n",
    "badges: true\n",
    "categories: ML\n",
    "description: Knowledge transfer between ML domains\n",
    "title: Fundamentals across ML domains\n",
    "date: '2024-06-25'\n",
    "toc: true\n",
    "---"
   ]
  },
  {
   "cell_type": "markdown",
   "metadata": {},
   "source": [
    "| NN | Transformer | CNN | \n",
    "| --- | --- | --- |\n",
    "| - | Multi-head | Multi-channel | \n",
    "| - | Skip-connection | ResNet |"
   ]
  }
 ],
 "metadata": {
  "language_info": {
   "name": "python"
  }
 },
 "nbformat": 4,
 "nbformat_minor": 2
}
