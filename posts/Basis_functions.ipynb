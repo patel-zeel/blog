{
 "cells": [
  {
   "attachments": {},
   "cell_type": "markdown",
   "metadata": {},
   "source": [
    "---\n",
    "author: Zeel B Patel\n",
    "badges: true\n",
    "categories: ML\n",
    "description: Exploring basis functions\n",
    "title: Basis functions\n",
    "date: '2023-06-12'\n",
    "toc: true\n",
    "---"
   ]
  },
  {
   "cell_type": "code",
   "execution_count": 29,
   "metadata": {},
   "outputs": [],
   "source": [
    "import GPy\n",
    "import numpy as np\n",
    "import pandas as pd\n",
    "\n",
    "from sklearn.preprocessing import MinMaxScaler, StandardScaler\n",
    "from sklearn.model_selection import train_test_split\n",
    "from sklearn.ensemble import RandomForestRegressor\n",
    "\n",
    "import matplotlib.pyplot as plt"
   ]
  },
  {
   "cell_type": "code",
   "execution_count": 32,
   "metadata": {},
   "outputs": [
    {
     "name": "stderr",
     "output_type": "stream",
     "text": [
      " /tmp/ipykernel_922642/3470971270.py:18: DataConversionWarning:A column-vector y was passed when a 1d array was expected. Please change the shape of y to (n_samples,), for example using ravel().\n"
     ]
    }
   ],
   "source": [
    "data = pd.read_csv(\"../../beat_stgnp/dataset/bjair/NP/processed_raw.csv\")\n",
    "data[\"time\"] = pd.to_datetime(data[\"time\"], format=\"%Y-%m-%d %H:%M:%S\")\n",
    "data[\"time\"] = data[\"time\"].apply(lambda x: x.timestamp())\n",
    "\n",
    "x = [\"latitude\", \"longitude\", \"time\"]\n",
    "y = [\"PM25_Concentration\"]\n",
    "\n",
    "x_train, x_test, y_train, y_test = train_test_split(data[x], data[y], test_size=0.2, random_state=42)\n",
    "x_train, x_test, y_train, y_test = map(lambda x: x.values, [x_train, x_test, y_train, y_test])\n",
    "\n",
    "x_scaler = MinMaxScaler()\n",
    "y_scaler = StandardScaler()\n",
    "x_train = x_scaler.fit_transform(x_train)\n",
    "y_train = y_scaler.fit_transform(y_train)\n",
    "x_test = x_scaler.transform(x_test)\n",
    "\n",
    "model = RandomForestRegressor(n_estimators=1000, random_state=42)\n",
    "model.fit(x_train, y_train.ravel())\n",
    "y_pred = model.predict(x_test)\n",
    "print(\"RMSE\", np.sqrt(np.mean((y_scaler.inverse_transform(y_pred).ravel() - y_test.ravel())**2)))"
   ]
  }
 ],
 "metadata": {
  "kernelspec": {
   "display_name": "torch_dt",
   "language": "python",
   "name": "python3"
  },
  "language_info": {
   "codemirror_mode": {
    "name": "ipython",
    "version": 3
   },
   "file_extension": ".py",
   "mimetype": "text/x-python",
   "name": "python",
   "nbconvert_exporter": "python",
   "pygments_lexer": "ipython3",
   "version": "3.9.5"
  },
  "orig_nbformat": 4
 },
 "nbformat": 4,
 "nbformat_minor": 2
}
