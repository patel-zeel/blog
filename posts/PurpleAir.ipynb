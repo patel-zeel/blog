{
 "cells": [
  {
   "attachments": {},
   "cell_type": "markdown",
   "metadata": {},
   "source": [
    "---\n",
    "author: Zeel B Patel\n",
    "badges: true\n",
    "categories: ML, GP\n",
    "description: A guide to download low-cost sensor data from OpenAQ\n",
    "title: Download low-cost data from OpenAQ\n",
    "date: '2023-07-26'\n",
    "toc: true\n",
    "---"
   ]
  },
  {
   "cell_type": "code",
   "execution_count": 2,
   "metadata": {},
   "outputs": [],
   "source": [
    "import requests\n",
    "import pandas as pd\n",
    "import geopandas as gpd\n",
    "from shapely.geometry import Point\n",
    "from glob import glob\n",
    "\n",
    "from geopy.geocoders import Nominatim"
   ]
  },
  {
   "cell_type": "markdown",
   "metadata": {},
   "source": [
    "OpenAQ has an aws s3 bucket that contains all the data to download for free. This is a guide to download the data from the bucket. If you have enough space and bandwidth, aws s3 commands are the fastest way to download the data. If you don't have enough space/bandwidth or you want to download specific data only then follow along.\n",
    "\n",
    "Acknowledgement: Much help is taken from ChatGPT for some complex Linux commands."
   ]
  },
  {
   "cell_type": "markdown",
   "metadata": {},
   "source": [
    "We will mostly use the following commands:\n",
    "```bash\n",
    "aws s3 ls\n",
    "aws s3 cp\n",
    "```"
   ]
  },
  {
   "cell_type": "markdown",
   "metadata": {},
   "source": [
    "Scenario 1: We want to download PurpleAir sensors data for Delhi for entire 2022. I am taking Delhi's example since there are far lesser sensors in Delhi than in the US. So, it will be easier for this demo."
   ]
  },
  {
   "cell_type": "markdown",
   "metadata": {},
   "source": [
    "Some statistics that I have calculated for PurpleAir sensors in US are as follows:\n",
    "\n",
    "| Country | Number of sensors | Total size | years |\n",
    "|---------|-------------------|------------|-------|\n",
    "| USA | 22497 | 90.945 GB | 2018, 2019, 2020, 2021, 2022, 2023 |"
   ]
  },
  {
   "cell_type": "markdown",
   "metadata": {},
   "source": [
    "Let's see how to calculate these statistics for India."
   ]
  },
  {
   "cell_type": "code",
   "execution_count": 3,
   "metadata": {},
   "outputs": [],
   "source": [
    "!aws s3 --no-sign-request ls s3://openaq-data-archive/records/csv.gz/provider=purpleair/country=in/ > /tmp/in.txt"
   ]
  },
  {
   "cell_type": "markdown",
   "metadata": {},
   "source": [
    "The output of above command contains all sensor IDs within India. These sensor IDs are assigned by OpenAQ and they are different from PurpleAir \"sensor_index\". The output looks like the following. "
   ]
  },
  {
   "cell_type": "code",
   "execution_count": 4,
   "metadata": {},
   "outputs": [
    {
     "name": "stdout",
     "output_type": "stream",
     "text": [
      "Number of locations = 623\n",
      "\n",
      "PRE locationid=160485/\n",
      "PRE locationid=218334/\n",
      "PRE locationid=218336/\n"
     ]
    }
   ],
   "source": [
    "with open('/tmp/in.txt', 'r') as f:\n",
    "    lines = [line.strip() for line in f.readlines()]\n",
    "  \n",
    "print(f\"Number of locations = {len(lines)}\\n\")\n",
    "print(*lines[:3], sep='\\n')"
   ]
  },
  {
   "cell_type": "markdown",
   "metadata": {},
   "source": [
    "Counting total size of files:"
   ]
  },
  {
   "cell_type": "code",
   "execution_count": 5,
   "metadata": {},
   "outputs": [],
   "source": [
    "!aws s3 --no-sign-request ls s3://openaq-data-archive/records/csv.gz/provider=purpleair/country=in/ --recursive > /tmp/in_files.txt"
   ]
  },
  {
   "cell_type": "code",
   "execution_count": 6,
   "metadata": {},
   "outputs": [
    {
     "name": "stdout",
     "output_type": "stream",
     "text": [
      "1.20947 GB\n"
     ]
    }
   ],
   "source": [
    "!awk '{ sum += $3 } END { print (sum/1024/1024/1024) \" GB\"}' /tmp/in_files.txt"
   ]
  },
  {
   "cell_type": "markdown",
   "metadata": {},
   "source": [
    "Number of years:"
   ]
  },
  {
   "cell_type": "code",
   "execution_count": 7,
   "metadata": {},
   "outputs": [
    {
     "name": "stdout",
     "output_type": "stream",
     "text": [
      "2019\n",
      "2020\n",
      "2021\n",
      "2022\n",
      "2023\n"
     ]
    }
   ],
   "source": [
    "!cat /tmp/in_files.txt | grep -oP 'year=\\K\\w+' | sort | uniq"
   ]
  },
  {
   "cell_type": "markdown",
   "metadata": {},
   "source": [
    "Let's find out which sensors among these belong to Delhi."
   ]
  },
  {
   "cell_type": "code",
   "execution_count": 8,
   "metadata": {},
   "outputs": [],
   "source": [
    "!cat /tmp/in.txt | grep -oP 'locationid=\\K\\w+' | sort | uniq > /tmp/in_locations.txt"
   ]
  },
  {
   "cell_type": "markdown",
   "metadata": {},
   "source": [
    "Now we use OpenAQ REST API. It has limit of 300 requests per 5 minutes. After the limit exceeds, it will return an error."
   ]
  },
  {
   "cell_type": "code",
   "execution_count": 14,
   "metadata": {},
   "outputs": [
    {
     "name": "stdout",
     "output_type": "stream",
     "text": [
      "500 Internal Server Error\n"
     ]
    }
   ],
   "source": [
    "url = 'https://api.openaq.org/v2/locations'\n",
    "params = {\n",
    "    'limit': 1000,\n",
    "    'country_id': 'IN',\n",
    "    \"modelName\": \"PurpleAir Sensor\"\n",
    "}\n",
    "\n",
    "# Request headers\n",
    "headers = {\n",
    "    'accept': 'application/json'\n",
    "}\n",
    "\n",
    "response = requests.get(url, params=params, headers=headers)\n",
    "\n",
    "if response.status_code == 200:\n",
    "    data = response.json()\n",
    "else:\n",
    "    print(response.status_code, response.reason)"
   ]
  },
  {
   "cell_type": "code",
   "execution_count": 10,
   "metadata": {},
   "outputs": [
    {
     "ename": "NameError",
     "evalue": "name 'data' is not defined",
     "output_type": "error",
     "traceback": [
      "\u001b[0;31m---------------------------------------------------------------------------\u001b[0m",
      "\u001b[0;31mNameError\u001b[0m                                 Traceback (most recent call last)",
      "Cell \u001b[0;32mIn[10], line 1\u001b[0m\n\u001b[0;32m----> 1\u001b[0m df \u001b[39m=\u001b[39m pd\u001b[39m.\u001b[39mDataFrame(data[\u001b[39m'\u001b[39m\u001b[39mresults\u001b[39m\u001b[39m'\u001b[39m])\n\u001b[1;32m      2\u001b[0m df\u001b[39m.\u001b[39mshape\n",
      "\u001b[0;31mNameError\u001b[0m: name 'data' is not defined"
     ]
    }
   ],
   "source": [
    "df = pd.DataFrame(data['results'])\n",
    "df.shape"
   ]
  },
  {
   "cell_type": "markdown",
   "metadata": {},
   "source": [
    "The following method works but takes too much time since it is online:"
   ]
  },
  {
   "cell_type": "code",
   "execution_count": 49,
   "metadata": {},
   "outputs": [
    {
     "data": {
      "text/html": [
       "<div>\n",
       "<style scoped>\n",
       "    .dataframe tbody tr th:only-of-type {\n",
       "        vertical-align: middle;\n",
       "    }\n",
       "\n",
       "    .dataframe tbody tr th {\n",
       "        vertical-align: top;\n",
       "    }\n",
       "\n",
       "    .dataframe thead th {\n",
       "        text-align: right;\n",
       "    }\n",
       "</style>\n",
       "<table border=\"1\" class=\"dataframe\">\n",
       "  <thead>\n",
       "    <tr style=\"text-align: right;\">\n",
       "      <th></th>\n",
       "      <th>id</th>\n",
       "      <th>city</th>\n",
       "      <th>name</th>\n",
       "      <th>entity</th>\n",
       "      <th>country</th>\n",
       "      <th>sources</th>\n",
       "      <th>isMobile</th>\n",
       "      <th>isAnalysis</th>\n",
       "      <th>parameters</th>\n",
       "      <th>sensorType</th>\n",
       "      <th>coordinates</th>\n",
       "      <th>lastUpdated</th>\n",
       "      <th>firstUpdated</th>\n",
       "      <th>measurements</th>\n",
       "      <th>bounds</th>\n",
       "      <th>manufacturers</th>\n",
       "    </tr>\n",
       "  </thead>\n",
       "  <tbody>\n",
       "    <tr>\n",
       "      <th>0</th>\n",
       "      <td>318146</td>\n",
       "      <td>Gangtok</td>\n",
       "      <td>NASA_AQCS_201_cpa</td>\n",
       "      <td>None</td>\n",
       "      <td>IN</td>\n",
       "      <td>None</td>\n",
       "      <td>False</td>\n",
       "      <td>None</td>\n",
       "      <td>[{'id': 135, 'unit': 'particles/cm³', 'count':...</td>\n",
       "      <td>None</td>\n",
       "      <td>{'latitude': 27.31013, 'longitude': 88.59687}</td>\n",
       "      <td>2023-07-26T02:34:05+00:00</td>\n",
       "      <td>2022-04-23T07:42:24+00:00</td>\n",
       "      <td>1168071</td>\n",
       "      <td>[88.59687, 27.31013, 88.59687, 27.31013]</td>\n",
       "      <td>[{'modelName': 'PurpleAir Sensor', 'manufactur...</td>\n",
       "    </tr>\n",
       "    <tr>\n",
       "      <th>1</th>\n",
       "      <td>220706</td>\n",
       "      <td>Gangtok</td>\n",
       "      <td>NASA_AQCS_139</td>\n",
       "      <td>None</td>\n",
       "      <td>IN</td>\n",
       "      <td>None</td>\n",
       "      <td>False</td>\n",
       "      <td>None</td>\n",
       "      <td>[{'id': 100, 'unit': 'c', 'count': 28600, 'ave...</td>\n",
       "      <td>None</td>\n",
       "      <td>{'latitude': 27.310116, 'longitude': 88.59682}</td>\n",
       "      <td>2023-07-26T02:34:04+00:00</td>\n",
       "      <td>2021-02-17T09:56:06+00:00</td>\n",
       "      <td>2205110</td>\n",
       "      <td>[88.59682, 27.310116, 88.59682, 27.310116]</td>\n",
       "      <td>[{'modelName': 'PurpleAir Sensor', 'manufactur...</td>\n",
       "    </tr>\n",
       "    <tr>\n",
       "      <th>2</th>\n",
       "      <td>66673</td>\n",
       "      <td>Hisar</td>\n",
       "      <td>NASA_AQCS_160</td>\n",
       "      <td>None</td>\n",
       "      <td>IN</td>\n",
       "      <td>None</td>\n",
       "      <td>False</td>\n",
       "      <td>None</td>\n",
       "      <td>[{'id': 132, 'unit': 'mb', 'count': 28651, 'av...</td>\n",
       "      <td>None</td>\n",
       "      <td>{'latitude': 29.146254, 'longitude': 75.72236}</td>\n",
       "      <td>2023-07-26T02:33:56+00:00</td>\n",
       "      <td>2021-01-19T23:59:16+00:00</td>\n",
       "      <td>2396934</td>\n",
       "      <td>[75.72236, 29.146254, 75.72236, 29.146254]</td>\n",
       "      <td>[{'modelName': 'PurpleAir Sensor', 'manufactur...</td>\n",
       "    </tr>\n",
       "    <tr>\n",
       "      <th>3</th>\n",
       "      <td>72977</td>\n",
       "      <td>Bengaluru</td>\n",
       "      <td>UT Sensor 101</td>\n",
       "      <td>None</td>\n",
       "      <td>IN</td>\n",
       "      <td>None</td>\n",
       "      <td>False</td>\n",
       "      <td>None</td>\n",
       "      <td>[{'id': 126, 'unit': 'particles/cm³', 'count':...</td>\n",
       "      <td>None</td>\n",
       "      <td>{'latitude': 13.045313, 'longitude': 77.573395}</td>\n",
       "      <td>2023-07-26T02:33:55+00:00</td>\n",
       "      <td>2021-01-14T01:18:23+00:00</td>\n",
       "      <td>2498544</td>\n",
       "      <td>[77.573395, 13.045313, 77.573395, 13.045313]</td>\n",
       "      <td>[{'modelName': 'PurpleAir Sensor', 'manufactur...</td>\n",
       "    </tr>\n",
       "    <tr>\n",
       "      <th>4</th>\n",
       "      <td>235916</td>\n",
       "      <td>Bengaluru</td>\n",
       "      <td>UW Sensor 311</td>\n",
       "      <td>None</td>\n",
       "      <td>IN</td>\n",
       "      <td>None</td>\n",
       "      <td>False</td>\n",
       "      <td>None</td>\n",
       "      <td>[{'id': 130, 'unit': 'particles/cm³', 'count':...</td>\n",
       "      <td>None</td>\n",
       "      <td>{'latitude': 13.048528, 'longitude': 77.582275}</td>\n",
       "      <td>2023-07-26T02:33:49+00:00</td>\n",
       "      <td>2021-09-16T12:29:52+00:00</td>\n",
       "      <td>1773924</td>\n",
       "      <td>[77.582275, 13.048528, 77.582275, 13.048528]</td>\n",
       "      <td>[{'modelName': 'PurpleAir Sensor', 'manufactur...</td>\n",
       "    </tr>\n",
       "    <tr>\n",
       "      <th>...</th>\n",
       "      <td>...</td>\n",
       "      <td>...</td>\n",
       "      <td>...</td>\n",
       "      <td>...</td>\n",
       "      <td>...</td>\n",
       "      <td>...</td>\n",
       "      <td>...</td>\n",
       "      <td>...</td>\n",
       "      <td>...</td>\n",
       "      <td>...</td>\n",
       "      <td>...</td>\n",
       "      <td>...</td>\n",
       "      <td>...</td>\n",
       "      <td>...</td>\n",
       "      <td>...</td>\n",
       "      <td>...</td>\n",
       "    </tr>\n",
       "    <tr>\n",
       "      <th>604</th>\n",
       "      <td>73922</td>\n",
       "      <td>New Delhi District</td>\n",
       "      <td>US Embassy A</td>\n",
       "      <td>None</td>\n",
       "      <td>IN</td>\n",
       "      <td>None</td>\n",
       "      <td>False</td>\n",
       "      <td>None</td>\n",
       "      <td>[{'id': 2, 'unit': 'µg/m³', 'count': 347, 'ave...</td>\n",
       "      <td>None</td>\n",
       "      <td>{'latitude': 28.5979, 'longitude': 77.1847}</td>\n",
       "      <td>2021-02-05T18:25:34+00:00</td>\n",
       "      <td>2021-01-08T12:12:29+00:00</td>\n",
       "      <td>2082</td>\n",
       "      <td>[77.1847, 28.5979, 77.1847, 28.5979]</td>\n",
       "      <td>[{'modelName': 'PurpleAir Sensor', 'manufactur...</td>\n",
       "    </tr>\n",
       "    <tr>\n",
       "      <th>605</th>\n",
       "      <td>73924</td>\n",
       "      <td>New Delhi District</td>\n",
       "      <td>US Embassy B</td>\n",
       "      <td>None</td>\n",
       "      <td>IN</td>\n",
       "      <td>None</td>\n",
       "      <td>False</td>\n",
       "      <td>None</td>\n",
       "      <td>[{'id': 2, 'unit': 'µg/m³', 'count': 347, 'ave...</td>\n",
       "      <td>None</td>\n",
       "      <td>{'latitude': 28.5982, 'longitude': 77.1837}</td>\n",
       "      <td>2021-02-05T18:23:59+00:00</td>\n",
       "      <td>2021-01-08T12:11:29+00:00</td>\n",
       "      <td>2082</td>\n",
       "      <td>[77.1837, 28.5982, 77.1837, 28.5982]</td>\n",
       "      <td>[{'modelName': 'PurpleAir Sensor', 'manufactur...</td>\n",
       "    </tr>\n",
       "    <tr>\n",
       "      <th>606</th>\n",
       "      <td>219370</td>\n",
       "      <td>Bhubaneswar Municipal Corporation</td>\n",
       "      <td>Bhubaneswar India</td>\n",
       "      <td>None</td>\n",
       "      <td>IN</td>\n",
       "      <td>None</td>\n",
       "      <td>False</td>\n",
       "      <td>None</td>\n",
       "      <td>[{'id': 2, 'unit': 'µg/m³', 'count': 180, 'ave...</td>\n",
       "      <td>None</td>\n",
       "      <td>{'latitude': 20.2853, 'longitude': 85.7685}</td>\n",
       "      <td>2021-02-03T10:18:41+00:00</td>\n",
       "      <td>2021-02-03T03:02:39+00:00</td>\n",
       "      <td>1080</td>\n",
       "      <td>[85.7685, 20.2853, 85.7685, 20.2853]</td>\n",
       "      <td>[{'modelName': 'PurpleAir Sensor', 'manufactur...</td>\n",
       "    </tr>\n",
       "    <tr>\n",
       "      <th>607</th>\n",
       "      <td>71465</td>\n",
       "      <td>Gurugram District</td>\n",
       "      <td>NASA_AQCS_152</td>\n",
       "      <td>None</td>\n",
       "      <td>IN</td>\n",
       "      <td>None</td>\n",
       "      <td>False</td>\n",
       "      <td>None</td>\n",
       "      <td>[{'id': 1, 'unit': 'µg/m³', 'count': 1, 'avera...</td>\n",
       "      <td>None</td>\n",
       "      <td>{'latitude': 28.4522, 'longitude': 77.0949}</td>\n",
       "      <td>2021-01-14T01:18:54+00:00</td>\n",
       "      <td>2021-01-14T01:18:54+00:00</td>\n",
       "      <td>6</td>\n",
       "      <td>[77.0949, 28.4522, 77.0949, 28.4522]</td>\n",
       "      <td>[{'modelName': 'PurpleAir Sensor', 'manufactur...</td>\n",
       "    </tr>\n",
       "    <tr>\n",
       "      <th>608</th>\n",
       "      <td>221974</td>\n",
       "      <td>Bengaluru</td>\n",
       "      <td>UT sensor</td>\n",
       "      <td>None</td>\n",
       "      <td>IN</td>\n",
       "      <td>None</td>\n",
       "      <td>False</td>\n",
       "      <td>None</td>\n",
       "      <td>[{'id': 130, 'unit': 'particles/cm³', 'count':...</td>\n",
       "      <td>None</td>\n",
       "      <td>{'latitude': 13.0449, 'longitude': 77.5788}</td>\n",
       "      <td>2019-12-17T10:32:35+00:00</td>\n",
       "      <td>2019-12-17T10:32:35+00:00</td>\n",
       "      <td>6</td>\n",
       "      <td>[77.5788, 13.0449, 77.5788, 13.0449]</td>\n",
       "      <td>[{'modelName': 'PurpleAir Sensor', 'manufactur...</td>\n",
       "    </tr>\n",
       "  </tbody>\n",
       "</table>\n",
       "<p>609 rows × 16 columns</p>\n",
       "</div>"
      ],
      "text/plain": [
       "         id                               city               name entity  \\\n",
       "0    318146                            Gangtok  NASA_AQCS_201_cpa   None   \n",
       "1    220706                            Gangtok      NASA_AQCS_139   None   \n",
       "2     66673                              Hisar      NASA_AQCS_160   None   \n",
       "3     72977                          Bengaluru      UT Sensor 101   None   \n",
       "4    235916                          Bengaluru      UW Sensor 311   None   \n",
       "..      ...                                ...                ...    ...   \n",
       "604   73922                 New Delhi District       US Embassy A   None   \n",
       "605   73924                 New Delhi District       US Embassy B   None   \n",
       "606  219370  Bhubaneswar Municipal Corporation  Bhubaneswar India   None   \n",
       "607   71465                  Gurugram District      NASA_AQCS_152   None   \n",
       "608  221974                          Bengaluru          UT sensor   None   \n",
       "\n",
       "    country sources  isMobile isAnalysis  \\\n",
       "0        IN    None     False       None   \n",
       "1        IN    None     False       None   \n",
       "2        IN    None     False       None   \n",
       "3        IN    None     False       None   \n",
       "4        IN    None     False       None   \n",
       "..      ...     ...       ...        ...   \n",
       "604      IN    None     False       None   \n",
       "605      IN    None     False       None   \n",
       "606      IN    None     False       None   \n",
       "607      IN    None     False       None   \n",
       "608      IN    None     False       None   \n",
       "\n",
       "                                            parameters sensorType  \\\n",
       "0    [{'id': 135, 'unit': 'particles/cm³', 'count':...       None   \n",
       "1    [{'id': 100, 'unit': 'c', 'count': 28600, 'ave...       None   \n",
       "2    [{'id': 132, 'unit': 'mb', 'count': 28651, 'av...       None   \n",
       "3    [{'id': 126, 'unit': 'particles/cm³', 'count':...       None   \n",
       "4    [{'id': 130, 'unit': 'particles/cm³', 'count':...       None   \n",
       "..                                                 ...        ...   \n",
       "604  [{'id': 2, 'unit': 'µg/m³', 'count': 347, 'ave...       None   \n",
       "605  [{'id': 2, 'unit': 'µg/m³', 'count': 347, 'ave...       None   \n",
       "606  [{'id': 2, 'unit': 'µg/m³', 'count': 180, 'ave...       None   \n",
       "607  [{'id': 1, 'unit': 'µg/m³', 'count': 1, 'avera...       None   \n",
       "608  [{'id': 130, 'unit': 'particles/cm³', 'count':...       None   \n",
       "\n",
       "                                         coordinates  \\\n",
       "0      {'latitude': 27.31013, 'longitude': 88.59687}   \n",
       "1     {'latitude': 27.310116, 'longitude': 88.59682}   \n",
       "2     {'latitude': 29.146254, 'longitude': 75.72236}   \n",
       "3    {'latitude': 13.045313, 'longitude': 77.573395}   \n",
       "4    {'latitude': 13.048528, 'longitude': 77.582275}   \n",
       "..                                               ...   \n",
       "604      {'latitude': 28.5979, 'longitude': 77.1847}   \n",
       "605      {'latitude': 28.5982, 'longitude': 77.1837}   \n",
       "606      {'latitude': 20.2853, 'longitude': 85.7685}   \n",
       "607      {'latitude': 28.4522, 'longitude': 77.0949}   \n",
       "608      {'latitude': 13.0449, 'longitude': 77.5788}   \n",
       "\n",
       "                   lastUpdated               firstUpdated  measurements  \\\n",
       "0    2023-07-26T02:34:05+00:00  2022-04-23T07:42:24+00:00       1168071   \n",
       "1    2023-07-26T02:34:04+00:00  2021-02-17T09:56:06+00:00       2205110   \n",
       "2    2023-07-26T02:33:56+00:00  2021-01-19T23:59:16+00:00       2396934   \n",
       "3    2023-07-26T02:33:55+00:00  2021-01-14T01:18:23+00:00       2498544   \n",
       "4    2023-07-26T02:33:49+00:00  2021-09-16T12:29:52+00:00       1773924   \n",
       "..                         ...                        ...           ...   \n",
       "604  2021-02-05T18:25:34+00:00  2021-01-08T12:12:29+00:00          2082   \n",
       "605  2021-02-05T18:23:59+00:00  2021-01-08T12:11:29+00:00          2082   \n",
       "606  2021-02-03T10:18:41+00:00  2021-02-03T03:02:39+00:00          1080   \n",
       "607  2021-01-14T01:18:54+00:00  2021-01-14T01:18:54+00:00             6   \n",
       "608  2019-12-17T10:32:35+00:00  2019-12-17T10:32:35+00:00             6   \n",
       "\n",
       "                                           bounds  \\\n",
       "0        [88.59687, 27.31013, 88.59687, 27.31013]   \n",
       "1      [88.59682, 27.310116, 88.59682, 27.310116]   \n",
       "2      [75.72236, 29.146254, 75.72236, 29.146254]   \n",
       "3    [77.573395, 13.045313, 77.573395, 13.045313]   \n",
       "4    [77.582275, 13.048528, 77.582275, 13.048528]   \n",
       "..                                            ...   \n",
       "604          [77.1847, 28.5979, 77.1847, 28.5979]   \n",
       "605          [77.1837, 28.5982, 77.1837, 28.5982]   \n",
       "606          [85.7685, 20.2853, 85.7685, 20.2853]   \n",
       "607          [77.0949, 28.4522, 77.0949, 28.4522]   \n",
       "608          [77.5788, 13.0449, 77.5788, 13.0449]   \n",
       "\n",
       "                                         manufacturers  \n",
       "0    [{'modelName': 'PurpleAir Sensor', 'manufactur...  \n",
       "1    [{'modelName': 'PurpleAir Sensor', 'manufactur...  \n",
       "2    [{'modelName': 'PurpleAir Sensor', 'manufactur...  \n",
       "3    [{'modelName': 'PurpleAir Sensor', 'manufactur...  \n",
       "4    [{'modelName': 'PurpleAir Sensor', 'manufactur...  \n",
       "..                                                 ...  \n",
       "604  [{'modelName': 'PurpleAir Sensor', 'manufactur...  \n",
       "605  [{'modelName': 'PurpleAir Sensor', 'manufactur...  \n",
       "606  [{'modelName': 'PurpleAir Sensor', 'manufactur...  \n",
       "607  [{'modelName': 'PurpleAir Sensor', 'manufactur...  \n",
       "608  [{'modelName': 'PurpleAir Sensor', 'manufactur...  \n",
       "\n",
       "[609 rows x 16 columns]"
      ]
     },
     "execution_count": 49,
     "metadata": {},
     "output_type": "execute_result"
    }
   ],
   "source": [
    "def get_city_name(coords):\n",
    "    latitude = coords[\"latitude\"]\n",
    "    longitude = coords[\"longitude\"]\n",
    "    geolocator = Nominatim(user_agent=\"myGeocoder\")  # Replace \"myGeocoder\" with your desired user agent\n",
    "    location = geolocator.reverse((latitude, longitude), exactly_one=True)\n",
    "\n",
    "    if location:\n",
    "        address = location.raw.get('address', {})\n",
    "        city = address.get('city', '')\n",
    "        return city\n",
    "\n",
    "    return None\n",
    "\n",
    "df[\"city\"] = df[\"coordinates\"].apply(get_city_name)\n",
    "df"
   ]
  },
  {
   "cell_type": "markdown",
   "metadata": {},
   "source": [
    "Now, we use another method of shapefile to do this:"
   ]
  },
  {
   "cell_type": "code",
   "execution_count": 56,
   "metadata": {},
   "outputs": [
    {
     "name": "stdout",
     "output_type": "stream",
     "text": [
      "--2023-07-26 08:37:34--  https://groups.google.com/group/datameet/attach/29b74b1aef5f2f13/Delhi.zip?part=0.1\n",
      "Resolving groups.google.com (groups.google.com)... 216.239.32.177, 216.239.36.177, 216.239.38.177, ...\n",
      "Connecting to groups.google.com (groups.google.com)|216.239.32.177|:443... connected.\n",
      "HTTP request sent, awaiting response... 302 Moved Temporarily\n",
      "Location: https://06895207363394598426.googlegroups.com/attach/29b74b1aef5f2f13/Delhi.zip?part=0.1&vt=ANaJVrEpUPnptnb4Y-J5gJRBVJ29K0pIGKzeBG7492Ume1tyn1MY5eTDbztxP0Hdbc7u8XhmH_GbemY_HD60x5OvDhr7M2ib1h8YfDmlNxFefazGPgmAUj0 [following]\n",
      "--2023-07-26 08:37:35--  https://06895207363394598426.googlegroups.com/attach/29b74b1aef5f2f13/Delhi.zip?part=0.1&vt=ANaJVrEpUPnptnb4Y-J5gJRBVJ29K0pIGKzeBG7492Ume1tyn1MY5eTDbztxP0Hdbc7u8XhmH_GbemY_HD60x5OvDhr7M2ib1h8YfDmlNxFefazGPgmAUj0\n",
      "Resolving 06895207363394598426.googlegroups.com (06895207363394598426.googlegroups.com)... 142.251.10.137, 2404:6800:4003:c0f::89\n",
      "Connecting to 06895207363394598426.googlegroups.com (06895207363394598426.googlegroups.com)|142.251.10.137|:443... connected.\n",
      "HTTP request sent, awaiting response... 200 OK\n",
      "Length: unspecified [application/zip]\n",
      "Saving to: ‘/tmp/delhi.zip’\n",
      "\n",
      "/tmp/delhi.zip          [ <=>                ]  16.42K  --.-KB/s    in 0.04s   \n",
      "\n",
      "2023-07-26 08:37:37 (429 KB/s) - ‘/tmp/delhi.zip’ saved [16812]\n",
      "\n",
      "Archive:  /tmp/delhi.zip\n",
      "  inflating: /tmp/delhi/Delhi.kml    \n",
      "  inflating: /tmp/delhi/Districts.dbf  \n",
      "  inflating: /tmp/delhi/Districts.prj  \n",
      "  inflating: /tmp/delhi/Districts.qpj  \n",
      "  inflating: /tmp/delhi/Districts.shp  \n",
      "  inflating: /tmp/delhi/Districts.shx  \n"
     ]
    }
   ],
   "source": [
    "!wget --no-check-certificate \"https://groups.google.com/group/datameet/attach/29b74b1aef5f2f13/Delhi.zip?part=0.1\" -O /tmp/delhi.zip\n",
    "!unzip -o /tmp/delhi.zip -d /tmp/delhi"
   ]
  },
  {
   "cell_type": "code",
   "execution_count": 59,
   "metadata": {},
   "outputs": [
    {
     "data": {
      "image/png": "[encoded data removed]",
      "text/plain": [
       "<Figure size 640x480 with 1 Axes>"
      ]
     },
     "metadata": {},
     "output_type": "display_data"
    }
   ],
   "source": [
    "gdf = gpd.read_file('/tmp/delhi/Districts.shp')\n",
    "gdf.plot(color=\"none\", edgecolor=\"black\");"
   ]
  },
  {
   "cell_type": "code",
   "execution_count": 61,
   "metadata": {},
   "outputs": [],
   "source": [
    "# check if a point is within Delhi\n",
    "def is_within_delhi(coords):\n",
    "    point = Point(coords[\"longitude\"], coords[\"latitude\"])\n",
    "    for i, row in gdf.iterrows():\n",
    "        if row.geometry.contains(point):\n",
    "            return True\n",
    "    return False\n",
    "\n",
    "df[\"is_within_delhi\"] = df[\"coordinates\"].apply(is_within_delhi)"
   ]
  },
  {
   "cell_type": "code",
   "execution_count": 64,
   "metadata": {},
   "outputs": [
    {
     "data": {
      "text/plain": [
       "(311, 17)"
      ]
     },
     "execution_count": 64,
     "metadata": {},
     "output_type": "execute_result"
    }
   ],
   "source": [
    "delhi_df = df[df[\"is_within_delhi\"]]\n",
    "delhi_df.shape"
   ]
  },
  {
   "cell_type": "code",
   "execution_count": 65,
   "metadata": {},
   "outputs": [
    {
     "data": {
      "text/plain": [
       "                      194\n",
       "New Delhi District    112\n",
       "Dwarka                  3\n",
       "Ghaziabad               2\n",
       "Name: city, dtype: int64"
      ]
     },
     "execution_count": 65,
     "metadata": {},
     "output_type": "execute_result"
    }
   ],
   "source": [
    "delhi_df.city.value_counts()"
   ]
  },
  {
   "cell_type": "markdown",
   "metadata": {},
   "source": [
    "Seems like many points were not detected by the online geopy encoder."
   ]
  },
  {
   "cell_type": "markdown",
   "metadata": {},
   "source": [
    "Now, we know that out of 623, 311 sensors belong to Delhi. Let's download the data for these sensors. For illustration, I will download data for 3 sensors for year 2022 and month of Jan."
   ]
  },
  {
   "cell_type": "code",
   "execution_count": 75,
   "metadata": {},
   "outputs": [
    {
     "name": "stdout",
     "output_type": "stream",
     "text": [
      "274208\n",
      "221227\n",
      "273205\n"
     ]
    }
   ],
   "source": [
    "# dump delhi_df.id to a file\n",
    "delhi_df.id.to_csv('/tmp/delhi_locations.txt', index=False, header=False)\n",
    "!head -n3 /tmp/delhi_locations.txt"
   ]
  },
  {
   "cell_type": "code",
   "execution_count": 80,
   "metadata": {},
   "outputs": [
    {
     "name": "stdout",
     "output_type": "stream",
     "text": [
      "download: s3://openaq-data-archive/records/csv.gz/provider=purpleair/country=in/locationid=274208/year=2022/month=01/location-274208-20220107.csv.gz to ../../../../tmp/delhi_data/location-274208-20220107.csv.gz\n",
      "download: s3://openaq-data-archive/records/csv.gz/provider=purpleair/country=in/locationid=274208/year=2022/month=01/location-274208-20220120.csv.gz to ../../../../tmp/delhi_data/location-274208-20220120.csv.gz\n",
      "download: s3://openaq-data-archive/records/csv.gz/provider=purpleair/country=in/locationid=274208/year=2022/month=01/location-274208-20220131.csv.gz to ../../../../tmp/delhi_data/location-274208-20220131.csv.gz\n",
      "download: s3://openaq-data-archive/records/csv.gz/provider=purpleair/country=in/locationid=274208/year=2022/month=01/location-274208-20220122.csv.gz to ../../../../tmp/delhi_data/location-274208-20220122.csv.gz\n",
      "download: s3://openaq-data-archive/records/csv.gz/provider=purpleair/country=in/locationid=274208/year=2022/month=01/location-274208-20220130.csv.gz to ../../../../tmp/delhi_data/location-274208-20220130.csv.gz\n",
      "download: s3://openaq-data-archive/records/csv.gz/provider=purpleair/country=in/locationid=274208/year=2022/month=01/location-274208-20220129.csv.gz to ../../../../tmp/delhi_data/location-274208-20220129.csv.gz\n",
      "download: s3://openaq-data-archive/records/csv.gz/provider=purpleair/country=in/locationid=274208/year=2022/month=01/location-274208-20220114.csv.gz to ../../../../tmp/delhi_data/location-274208-20220114.csv.gz\n",
      "download: s3://openaq-data-archive/records/csv.gz/provider=purpleair/country=in/locationid=274208/year=2022/month=01/location-274208-20220123.csv.gz to ../../../../tmp/delhi_data/location-274208-20220123.csv.gz\n",
      "download: s3://openaq-data-archive/records/csv.gz/provider=purpleair/country=in/locationid=274208/year=2022/month=01/location-274208-20220113.csv.gz to ../../../../tmp/delhi_data/location-274208-20220113.csv.gz\n",
      "download: s3://openaq-data-archive/records/csv.gz/provider=purpleair/country=in/locationid=274208/year=2022/month=01/location-274208-20220121.csv.gz to ../../../../tmp/delhi_data/location-274208-20220121.csv.gz\n",
      "download: s3://openaq-data-archive/records/csv.gz/provider=purpleair/country=in/locationid=221227/year=2022/month=01/location-221227-20220107.csv.gz to ../../../../tmp/delhi_data/location-221227-20220107.csv.gz\n",
      "download: s3://openaq-data-archive/records/csv.gz/provider=purpleair/country=in/locationid=221227/year=2022/month=01/location-221227-20220104.csv.gz to ../../../../tmp/delhi_data/location-221227-20220104.csv.gz\n",
      "download: s3://openaq-data-archive/records/csv.gz/provider=purpleair/country=in/locationid=221227/year=2022/month=01/location-221227-20220115.csv.gz to ../../../../tmp/delhi_data/location-221227-20220115.csv.gz\n",
      "download: s3://openaq-data-archive/records/csv.gz/provider=purpleair/country=in/locationid=221227/year=2022/month=01/location-221227-20220105.csv.gz to ../../../../tmp/delhi_data/location-221227-20220105.csv.gz\n",
      "download: s3://openaq-data-archive/records/csv.gz/provider=purpleair/country=in/locationid=221227/year=2022/month=01/location-221227-20220108.csv.gz to ../../../../tmp/delhi_data/location-221227-20220108.csv.gz\n",
      "download: s3://openaq-data-archive/records/csv.gz/provider=purpleair/country=in/locationid=221227/year=2022/month=01/location-221227-20220106.csv.gz to ../../../../tmp/delhi_data/location-221227-20220106.csv.gz\n",
      "download: s3://openaq-data-archive/records/csv.gz/provider=purpleair/country=in/locationid=221227/year=2022/month=01/location-221227-20220102.csv.gz to ../../../../tmp/delhi_data/location-221227-20220102.csv.gz\n",
      "download: s3://openaq-data-archive/records/csv.gz/provider=purpleair/country=in/locationid=221227/year=2022/month=01/location-221227-20220117.csv.gz to ../../../../tmp/delhi_data/location-221227-20220117.csv.gz\n",
      "download: s3://openaq-data-archive/records/csv.gz/provider=purpleair/country=in/locationid=221227/year=2022/month=01/location-221227-20220118.csv.gz to ../../../../tmp/delhi_data/location-221227-20220118.csv.gz\n",
      "download: s3://openaq-data-archive/records/csv.gz/provider=purpleair/country=in/locationid=221227/year=2022/month=01/location-221227-20220110.csv.gz to ../../../../tmp/delhi_data/location-221227-20220110.csv.gz\n",
      "download: s3://openaq-data-archive/records/csv.gz/provider=purpleair/country=in/locationid=221227/year=2022/month=01/location-221227-20220131.csv.gz to ../../../../tmp/delhi_data/location-221227-20220131.csv.gz\n",
      "download: s3://openaq-data-archive/records/csv.gz/provider=purpleair/country=in/locationid=221227/year=2022/month=01/location-221227-20220113.csv.gz to ../../../../tmp/delhi_data/location-221227-20220113.csv.gz\n",
      "download: s3://openaq-data-archive/records/csv.gz/provider=purpleair/country=in/locationid=221227/year=2022/month=01/location-221227-20220119.csv.gz to ../../../../tmp/delhi_data/location-221227-20220119.csv.gz\n",
      "download: s3://openaq-data-archive/records/csv.gz/provider=purpleair/country=in/locationid=221227/year=2022/month=01/location-221227-20220121.csv.gz to ../../../../tmp/delhi_data/location-221227-20220121.csv.gz\n",
      "download: s3://openaq-data-archive/records/csv.gz/provider=purpleair/country=in/locationid=221227/year=2022/month=01/location-221227-20220123.csv.gz to ../../../../tmp/delhi_data/location-221227-20220123.csv.gz\n",
      "download: s3://openaq-data-archive/records/csv.gz/provider=purpleair/country=in/locationid=221227/year=2022/month=01/location-221227-20220116.csv.gz to ../../../../tmp/delhi_data/location-221227-20220116.csv.gz\n",
      "download: s3://openaq-data-archive/records/csv.gz/provider=purpleair/country=in/locationid=221227/year=2022/month=01/location-221227-20220128.csv.gz to ../../../../tmp/delhi_data/location-221227-20220128.csv.gz\n",
      "download: s3://openaq-data-archive/records/csv.gz/provider=purpleair/country=in/locationid=221227/year=2022/month=01/location-221227-20220122.csv.gz to ../../../../tmp/delhi_data/location-221227-20220122.csv.gz\n",
      "download: s3://openaq-data-archive/records/csv.gz/provider=purpleair/country=in/locationid=221227/year=2022/month=01/location-221227-20220101.csv.gz to ../../../../tmp/delhi_data/location-221227-20220101.csv.gz\n",
      "download: s3://openaq-data-archive/records/csv.gz/provider=purpleair/country=in/locationid=221227/year=2022/month=01/location-221227-20220111.csv.gz to ../../../../tmp/delhi_data/location-221227-20220111.csv.gz\n",
      "download: s3://openaq-data-archive/records/csv.gz/provider=purpleair/country=in/locationid=221227/year=2022/month=01/location-221227-20220120.csv.gz to ../../../../tmp/delhi_data/location-221227-20220120.csv.gz\n",
      "download: s3://openaq-data-archive/records/csv.gz/provider=purpleair/country=in/locationid=221227/year=2022/month=01/location-221227-20220109.csv.gz to ../../../../tmp/delhi_data/location-221227-20220109.csv.gz\n",
      "download: s3://openaq-data-archive/records/csv.gz/provider=purpleair/country=in/locationid=221227/year=2022/month=01/location-221227-20220129.csv.gz to ../../../../tmp/delhi_data/location-221227-20220129.csv.gz\n",
      "download: s3://openaq-data-archive/records/csv.gz/provider=purpleair/country=in/locationid=221227/year=2022/month=01/location-221227-20220103.csv.gz to ../../../../tmp/delhi_data/location-221227-20220103.csv.gz\n",
      "download: s3://openaq-data-archive/records/csv.gz/provider=purpleair/country=in/locationid=221227/year=2022/month=01/location-221227-20220112.csv.gz to ../../../../tmp/delhi_data/location-221227-20220112.csv.gz\n",
      "download: s3://openaq-data-archive/records/csv.gz/provider=purpleair/country=in/locationid=221227/year=2022/month=01/location-221227-20220114.csv.gz to ../../../../tmp/delhi_data/location-221227-20220114.csv.gz\n",
      "download: s3://openaq-data-archive/records/csv.gz/provider=purpleair/country=in/locationid=221227/year=2022/month=01/location-221227-20220130.csv.gz to ../../../../tmp/delhi_data/location-221227-20220130.csv.gz\n",
      "download: s3://openaq-data-archive/records/csv.gz/provider=purpleair/country=in/locationid=273205/year=2022/month=01/location-273205-20220120.csv.gz to ../../../../tmp/delhi_data/location-273205-20220120.csv.gz\n",
      "download: s3://openaq-data-archive/records/csv.gz/provider=purpleair/country=in/locationid=273205/year=2022/month=01/location-273205-20220124.csv.gz to ../../../../tmp/delhi_data/location-273205-20220124.csv.gz\n",
      "download: s3://openaq-data-archive/records/csv.gz/provider=purpleair/country=in/locationid=273205/year=2022/month=01/location-273205-20220107.csv.gz to ../../../../tmp/delhi_data/location-273205-20220107.csv.gz\n",
      "download: s3://openaq-data-archive/records/csv.gz/provider=purpleair/country=in/locationid=273205/year=2022/month=01/location-273205-20220121.csv.gz to ../../../../tmp/delhi_data/location-273205-20220121.csv.gz\n",
      "download: s3://openaq-data-archive/records/csv.gz/provider=purpleair/country=in/locationid=273205/year=2022/month=01/location-273205-20220126.csv.gz to ../../../../tmp/delhi_data/location-273205-20220126.csv.gz\n",
      "download: s3://openaq-data-archive/records/csv.gz/provider=purpleair/country=in/locationid=273205/year=2022/month=01/location-273205-20220114.csv.gz to ../../../../tmp/delhi_data/location-273205-20220114.csv.gz\n",
      "download: s3://openaq-data-archive/records/csv.gz/provider=purpleair/country=in/locationid=273205/year=2022/month=01/location-273205-20220129.csv.gz to ../../../../tmp/delhi_data/location-273205-20220129.csv.gz\n",
      "download: s3://openaq-data-archive/records/csv.gz/provider=purpleair/country=in/locationid=273205/year=2022/month=01/location-273205-20220130.csv.gz to ../../../../tmp/delhi_data/location-273205-20220130.csv.gz\n",
      "download: s3://openaq-data-archive/records/csv.gz/provider=purpleair/country=in/locationid=273205/year=2022/month=01/location-273205-20220113.csv.gz to ../../../../tmp/delhi_data/location-273205-20220113.csv.gz\n",
      "download: s3://openaq-data-archive/records/csv.gz/provider=purpleair/country=in/locationid=273205/year=2022/month=01/location-273205-20220123.csv.gz to ../../../../tmp/delhi_data/location-273205-20220123.csv.gz\n",
      "download: s3://openaq-data-archive/records/csv.gz/provider=purpleair/country=in/locationid=273205/year=2022/month=01/location-273205-20220122.csv.gz to ../../../../tmp/delhi_data/location-273205-20220122.csv.gz\n",
      "download: s3://openaq-data-archive/records/csv.gz/provider=purpleair/country=in/locationid=273205/year=2022/month=01/location-273205-20220131.csv.gz to ../../../../tmp/delhi_data/location-273205-20220131.csv.gz\n",
      "download: s3://openaq-data-archive/records/csv.gz/provider=purpleair/country=in/locationid=273205/year=2022/month=01/location-273205-20220128.csv.gz to ../../../../tmp/delhi_data/location-273205-20220128.csv.gz\n",
      "download: s3://openaq-data-archive/records/csv.gz/provider=purpleair/country=in/locationid=273205/year=2022/month=01/location-273205-20220125.csv.gz to ../../../../tmp/delhi_data/location-273205-20220125.csv.gz\n",
      "download: s3://openaq-data-archive/records/csv.gz/provider=purpleair/country=in/locationid=273205/year=2022/month=01/location-273205-20220127.csv.gz to ../../../../tmp/delhi_data/location-273205-20220127.csv.gz\n"
     ]
    }
   ],
   "source": [
    "!head -n3 /tmp/delhi_locations.txt > /tmp/delhi_locations_3.txt\n",
    "!while read -r sensor_id; do aws s3 --no-sign-request cp s3://openaq-data-archive/records/csv.gz/provider=purpleair/country=in/locationid=$sensor_id/year=2022/month=01 /tmp/delhi_data --recursive; done < /tmp/delhi_locations_3.txt"
   ]
  },
  {
   "cell_type": "markdown",
   "metadata": {},
   "source": [
    "Verify if we got all the sensors data as we needed."
   ]
  },
  {
   "cell_type": "code",
   "execution_count": 94,
   "metadata": {},
   "outputs": [
    {
     "name": "stdout",
     "output_type": "stream",
     "text": [
      "27\n",
      "10\n",
      "15\n"
     ]
    }
   ],
   "source": [
    "!ls /tmp/delhi_data/location-221227* | wc -l\n",
    "!ls /tmp/delhi_data/location-274208* | wc -l\n",
    "!ls /tmp/delhi_data/location-273205* | wc -l"
   ]
  },
  {
   "cell_type": "code",
   "execution_count": 97,
   "metadata": {},
   "outputs": [
    {
     "data": {
      "text/plain": [
       "pm10     64\n",
       "pm25     64\n",
       "pm1      64\n",
       "um010    64\n",
       "um025    64\n",
       "um100    64\n",
       "Name: parameter, dtype: int64"
      ]
     },
     "execution_count": 97,
     "metadata": {},
     "output_type": "execute_result"
    }
   ],
   "source": [
    "sensor_df = pd.read_csv('/tmp/delhi_data/location-274208-20220107.csv.gz')\n",
    "sensor_df.parameter.value_counts()"
   ]
  }
 ],
 "metadata": {
  "kernelspec": {
   "display_name": "base",
   "language": "python",
   "name": "python3"
  },
  "language_info": {
   "codemirror_mode": {
    "name": "ipython",
    "version": 3
   },
   "file_extension": ".py",
   "mimetype": "text/x-python",
   "name": "python",
   "nbconvert_exporter": "python",
   "pygments_lexer": "ipython3",
   "version": "3.9.5"
  },
  "orig_nbformat": 4
 },
 "nbformat": 4,
 "nbformat_minor": 2
}
