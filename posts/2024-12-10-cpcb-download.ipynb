{
 "cells": [
  {
   "cell_type": "markdown",
   "metadata": {},
   "source": [
    "---\n",
    "author: Zeel B Patel\n",
    "badges: true\n",
    "categories:\n",
    "- Data\n",
    "date: '2024-12-10'\n",
    "description: Download CPCB data with selenium\n",
    "title: Download CPCB live data\n",
    "toc: true\n",
    "---"
   ]
  },
  {
   "cell_type": "code",
   "execution_count": 23,
   "metadata": {},
   "outputs": [],
   "source": [
    "import os\n",
    "import re\n",
    "from glob import glob\n",
    "import pandas as pd\n",
    "from tqdm.notebook import tqdm\n",
    "from selenium import webdriver\n",
    "from selenium.webdriver.common.by import By\n",
    "from selenium.webdriver.common.keys import Keys\n",
    "from selenium.webdriver.support.ui import Select, WebDriverWait\n",
    "from selenium.webdriver.common.action_chains import ActionChains\n",
    "from selenium.webdriver.support import expected_conditions as EC\n",
    "from selenium.webdriver.chrome.options import Options\n",
    "from time import sleep\n",
    "\n",
    "HOME_URL = \"https://airquality.cpcb.gov.in/ccr/#/caaqm-dashboard-all/caaqm-landing\"\n",
    "DOWNLOAD_OLD_DATA_URL = \"https://airquality.cpcb.gov.in/ccr/#/caaqm-dashboard-all/caaqm-landing/caaqm-data-repository\"\n",
    "DOWNLOAD_PAGE_URL = \"https://airquality.cpcb.gov.in/ccr/#/caaqm-dashboard-all/caaqm-landing/data\""
   ]
  },
  {
   "cell_type": "code",
   "execution_count": 24,
   "metadata": {},
   "outputs": [],
   "source": [
    "def click_it(driver, element):\n",
    "    driver.execute_script(\"arguments[0].click();\", element)\n",
    "    \n",
    "def find_it(element, option):\n",
    "    return element.find_element(By.XPATH, f\"//li[contains(text(), '{option}')]\")\n",
    "\n",
    "def select_dropdown_option(driver, element, option):\n",
    "    element.click()\n",
    "    option = find_it(element, option)\n",
    "    click_it(driver, option)"
   ]
  },
  {
   "cell_type": "markdown",
   "metadata": {},
   "source": [
    "## Dry run to get metadata"
   ]
  },
  {
   "cell_type": "code",
   "execution_count": 3,
   "metadata": {},
   "outputs": [
    {
     "data": {
      "text/plain": [
       "5"
      ]
     },
     "execution_count": 3,
     "metadata": {},
     "output_type": "execute_result"
    }
   ],
   "source": [
    "# headless chrome\n",
    "options = Options()\n",
    "options.add_argument(\"--headless\")\n",
    "\n",
    "# open the browser\n",
    "driver = webdriver.Chrome(options=options)\n",
    "\n",
    "# open the website\n",
    "driver.get(DOWNLOAD_OLD_DATA_URL)\n",
    "\n",
    "# wait for the page to load and the dropdowns to appear\n",
    "dropdowns = WebDriverWait(driver, 10).until(EC.presence_of_all_elements_located((By.CSS_SELECTOR, \".select-box\")))\n",
    "len(dropdowns)"
   ]
  },
  {
   "cell_type": "code",
   "execution_count": 4,
   "metadata": {},
   "outputs": [],
   "source": [
    "drop_data_type, drop_frequency, drop_states, drop_cities, drop_stations = dropdowns"
   ]
  },
  {
   "cell_type": "code",
   "execution_count": 5,
   "metadata": {},
   "outputs": [
    {
     "name": "stdout",
     "output_type": "stream",
     "text": [
      "Number of states: 31\n"
     ]
    }
   ],
   "source": [
    "# Select data type\n",
    "select_dropdown_option(driver, drop_data_type, \"Raw data\")\n",
    "\n",
    "# Select frequency\n",
    "select_dropdown_option(driver, drop_frequency, \"1 day\")\n",
    "\n",
    "# Get the states\n",
    "drop_states.click() # Open the dropdown\n",
    "states = drop_states.text.replace(\"▲\\n\", \"\").split(\"\\n\")\n",
    "print(\"Number of states:\", len(states))\n",
    "drop_states.click() # Close the dropdown"
   ]
  },
  {
   "cell_type": "code",
   "execution_count": null,
   "metadata": {},
   "outputs": [
    {
     "data": {
      "application/vnd.jupyter.widget-view+json": {
       "model_id": "957f5ecd8a40427aa882ef39f65d90c7",
       "version_major": 2,
       "version_minor": 0
      },
      "text/plain": [
       "  0%|          | 0/600 [00:00<?, ?it/s]"
      ]
     },
     "metadata": {},
     "output_type": "display_data"
    }
   ],
   "source": [
    "metadata_df = pd.DataFrame(columns=[\"State\", \"City\", \"Station\", \"site_id\"])\n",
    "\n",
    "# This loop took less than a minute to run\n",
    "progress_bar = tqdm(total=600) # as of 2024, 560 stations. update this number if it changes\n",
    "for state in states:\n",
    "    select_dropdown_option(driver, drop_states, state)\n",
    "    \n",
    "    # Get all cities\n",
    "    drop_cities.click() # Open the dropdown\n",
    "    cities = drop_cities.text.replace(\"▲\\n\", \"\").split(\"\\n\")\n",
    "    drop_cities.click() # Close the dropdown\n",
    "    \n",
    "    for city in cities:\n",
    "        select_dropdown_option(driver, drop_cities, city)\n",
    "        \n",
    "        # Get all stations\n",
    "        drop_stations.click() # Open the dropdown\n",
    "        stations = drop_stations.text.replace(\"▲\\n\", \"\").split(\"\\n\")\n",
    "        drop_stations.click() # Close the dropdown\n",
    "        \n",
    "        for station in stations:\n",
    "            # corner cases\n",
    "            if station == \"Municipal Corporation Office, Dharuhera - HSPCB\":\n",
    "                site_id = \"site_5044\"\n",
    "            elif station == \"Civil Lines, Ajmer - RSPCB\":\n",
    "                site_id = \"site_1392\"\n",
    "            else:\n",
    "                try:\n",
    "                    select_dropdown_option(driver, drop_stations, station)\n",
    "                except:\n",
    "                    print(\"Unable to select station\")\n",
    "                    print(station)\n",
    "                    print(drop_stations.text)\n",
    "                    continue\n",
    "                site_id = drop_stations.get_attribute(\"ng-reflect-model\")\n",
    "            metadata_df.loc[len(metadata_df)] = [state, city, station, site_id]\n",
    "            progress_bar.update(1)"
   ]
  },
  {
   "cell_type": "code",
   "execution_count": 7,
   "metadata": {},
   "outputs": [
    {
     "data": {
      "text/plain": [
       "560"
      ]
     },
     "execution_count": 7,
     "metadata": {},
     "output_type": "execute_result"
    }
   ],
   "source": [
    "len(metadata_df)"
   ]
  },
  {
   "cell_type": "code",
   "execution_count": 8,
   "metadata": {},
   "outputs": [
    {
     "data": {
      "text/html": [
       "<div>\n",
       "<style scoped>\n",
       "    .dataframe tbody tr th:only-of-type {\n",
       "        vertical-align: middle;\n",
       "    }\n",
       "\n",
       "    .dataframe tbody tr th {\n",
       "        vertical-align: top;\n",
       "    }\n",
       "\n",
       "    .dataframe thead th {\n",
       "        text-align: right;\n",
       "    }\n",
       "</style>\n",
       "<table border=\"1\" class=\"dataframe\">\n",
       "  <thead>\n",
       "    <tr style=\"text-align: right;\">\n",
       "      <th></th>\n",
       "      <th>State</th>\n",
       "      <th>City</th>\n",
       "      <th>Station</th>\n",
       "      <th>site_id</th>\n",
       "    </tr>\n",
       "  </thead>\n",
       "  <tbody>\n",
       "    <tr>\n",
       "      <th>0</th>\n",
       "      <td>Andhra Pradesh</td>\n",
       "      <td>Amaravati</td>\n",
       "      <td>Secretariat, Amaravati - APPCB</td>\n",
       "      <td>site_1406</td>\n",
       "    </tr>\n",
       "    <tr>\n",
       "      <th>1</th>\n",
       "      <td>Andhra Pradesh</td>\n",
       "      <td>Anantapur</td>\n",
       "      <td>Gulzarpet, Anantapur - APPCB</td>\n",
       "      <td>site_5632</td>\n",
       "    </tr>\n",
       "    <tr>\n",
       "      <th>2</th>\n",
       "      <td>Andhra Pradesh</td>\n",
       "      <td>Chittoor</td>\n",
       "      <td>Gangineni Cheruvu, Chittoor - APPCB</td>\n",
       "      <td>site_5665</td>\n",
       "    </tr>\n",
       "    <tr>\n",
       "      <th>3</th>\n",
       "      <td>Andhra Pradesh</td>\n",
       "      <td>Kadapa</td>\n",
       "      <td>Yerramukkapalli, Kadapa - APPCB</td>\n",
       "      <td>site_5693</td>\n",
       "    </tr>\n",
       "    <tr>\n",
       "      <th>4</th>\n",
       "      <td>Andhra Pradesh</td>\n",
       "      <td>Rajamahendravaram</td>\n",
       "      <td>Anand Kala Kshetram, Rajamahendravaram - APPCB</td>\n",
       "      <td>site_1399</td>\n",
       "    </tr>\n",
       "  </tbody>\n",
       "</table>\n",
       "</div>"
      ],
      "text/plain": [
       "            State               City  \\\n",
       "0  Andhra Pradesh          Amaravati   \n",
       "1  Andhra Pradesh          Anantapur   \n",
       "2  Andhra Pradesh           Chittoor   \n",
       "3  Andhra Pradesh             Kadapa   \n",
       "4  Andhra Pradesh  Rajamahendravaram   \n",
       "\n",
       "                                          Station    site_id  \n",
       "0                  Secretariat, Amaravati - APPCB  site_1406  \n",
       "1                    Gulzarpet, Anantapur - APPCB  site_5632  \n",
       "2             Gangineni Cheruvu, Chittoor - APPCB  site_5665  \n",
       "3                 Yerramukkapalli, Kadapa - APPCB  site_5693  \n",
       "4  Anand Kala Kshetram, Rajamahendravaram - APPCB  site_1399  "
      ]
     },
     "execution_count": 8,
     "metadata": {},
     "output_type": "execute_result"
    }
   ],
   "source": [
    "metadata_df.head()"
   ]
  },
  {
   "cell_type": "code",
   "execution_count": 9,
   "metadata": {},
   "outputs": [
    {
     "data": {
      "text/html": [
       "<div>\n",
       "<style scoped>\n",
       "    .dataframe tbody tr th:only-of-type {\n",
       "        vertical-align: middle;\n",
       "    }\n",
       "\n",
       "    .dataframe tbody tr th {\n",
       "        vertical-align: top;\n",
       "    }\n",
       "\n",
       "    .dataframe thead th {\n",
       "        text-align: right;\n",
       "    }\n",
       "</style>\n",
       "<table border=\"1\" class=\"dataframe\">\n",
       "  <thead>\n",
       "    <tr style=\"text-align: right;\">\n",
       "      <th></th>\n",
       "      <th>State</th>\n",
       "      <th>City</th>\n",
       "      <th>Station</th>\n",
       "      <th>site_id</th>\n",
       "    </tr>\n",
       "  </thead>\n",
       "  <tbody>\n",
       "    <tr>\n",
       "      <th>555</th>\n",
       "      <td>West Bengal</td>\n",
       "      <td>Kolkata</td>\n",
       "      <td>Rabindra Bharati University, Kolkata - WBPCB</td>\n",
       "      <td>site_296</td>\n",
       "    </tr>\n",
       "    <tr>\n",
       "      <th>556</th>\n",
       "      <td>West Bengal</td>\n",
       "      <td>Kolkata</td>\n",
       "      <td>Fort William, Kolkata - WBPCB</td>\n",
       "      <td>site_5110</td>\n",
       "    </tr>\n",
       "    <tr>\n",
       "      <th>557</th>\n",
       "      <td>West Bengal</td>\n",
       "      <td>Kolkata</td>\n",
       "      <td>Victoria, Kolkata - WBPCB</td>\n",
       "      <td>site_309</td>\n",
       "    </tr>\n",
       "    <tr>\n",
       "      <th>558</th>\n",
       "      <td>West Bengal</td>\n",
       "      <td>Kolkata</td>\n",
       "      <td>Bidhannagar, Kolkata - WBPCB</td>\n",
       "      <td>site_5129</td>\n",
       "    </tr>\n",
       "    <tr>\n",
       "      <th>559</th>\n",
       "      <td>West Bengal</td>\n",
       "      <td>Siliguri</td>\n",
       "      <td>Ward-32 Bapupara, Siliguri - WBPCB</td>\n",
       "      <td>site_1419</td>\n",
       "    </tr>\n",
       "  </tbody>\n",
       "</table>\n",
       "</div>"
      ],
      "text/plain": [
       "           State      City                                       Station  \\\n",
       "555  West Bengal   Kolkata  Rabindra Bharati University, Kolkata - WBPCB   \n",
       "556  West Bengal   Kolkata                 Fort William, Kolkata - WBPCB   \n",
       "557  West Bengal   Kolkata                     Victoria, Kolkata - WBPCB   \n",
       "558  West Bengal   Kolkata                  Bidhannagar, Kolkata - WBPCB   \n",
       "559  West Bengal  Siliguri            Ward-32 Bapupara, Siliguri - WBPCB   \n",
       "\n",
       "       site_id  \n",
       "555   site_296  \n",
       "556  site_5110  \n",
       "557   site_309  \n",
       "558  site_5129  \n",
       "559  site_1419  "
      ]
     },
     "execution_count": 9,
     "metadata": {},
     "output_type": "execute_result"
    }
   ],
   "source": [
    "metadata_df.tail()"
   ]
  },
  {
   "cell_type": "code",
   "execution_count": 33,
   "metadata": {},
   "outputs": [
    {
     "name": "stdout",
     "output_type": "stream",
     "text": [
      "             State           City  \\\n",
      "498  Uttar Pradesh  Greater Noida   \n",
      "525  Uttar Pradesh          Noida   \n",
      "\n",
      "                                         Station    site_id  \n",
      "498  Knowledge Park - III, Greater Noida - UPPCB  site_1541  \n",
      "525  Knowledge Park - III, Greater Noida - UPPCB  site_1541  \n",
      "           State        City                               Station    site_id\n",
      "25         Bihar  Aurangabad  MIDC Chilkalthana, Aurangabad - MPCB  site_5788\n",
      "254  Maharashtra  Aurangabad  MIDC Chilkalthana, Aurangabad - MPCB  site_5788\n",
      "           State        City                              Station   site_id\n",
      "26         Bihar  Aurangabad  More Chowk Waluj, Aurangabad - MPCB  site_198\n",
      "255  Maharashtra  Aurangabad  More Chowk Waluj, Aurangabad - MPCB  site_198\n",
      "           State        City                           Station    site_id\n",
      "27         Bihar  Aurangabad  Gurdeo Nagar, Aurangabad - BSPCB  site_5544\n",
      "256  Maharashtra  Aurangabad  Gurdeo Nagar, Aurangabad - BSPCB  site_5544\n",
      "           State        City                              Station    site_id\n",
      "28         Bihar  Aurangabad  Rachnakar Colony, Aurangabad - MPCB  site_5789\n",
      "257  Maharashtra  Aurangabad  Rachnakar Colony, Aurangabad - MPCB  site_5789\n",
      "             State           City                                    Station  \\\n",
      "499  Uttar Pradesh  Greater Noida  Knowledge Park - V, Greater Noida - UPPCB   \n",
      "526  Uttar Pradesh          Noida  Knowledge Park - V, Greater Noida - UPPCB   \n",
      "\n",
      "       site_id  \n",
      "499  site_5121  \n",
      "526  site_5121  \n"
     ]
    }
   ],
   "source": [
    "for site_id, more_than_1 in (metadata_df.site_id.value_counts() > 1).items():\n",
    "    if more_than_1:\n",
    "        print(metadata_df[metadata_df.site_id == site_id])"
   ]
  },
  {
   "cell_type": "code",
   "execution_count": 36,
   "metadata": {},
   "outputs": [
    {
     "data": {
      "text/plain": [
       "554"
      ]
     },
     "execution_count": 36,
     "metadata": {},
     "output_type": "execute_result"
    }
   ],
   "source": [
    "# clean up\n",
    "drop_items = [metadata_df[(metadata_df.State == \"Bihar\") & (metadata_df.Station == \"MIDC Chilkalthana, Aurangabad - MPCB\")].index.item(),\n",
    "              metadata_df[(metadata_df.City == \"Noida\") & (metadata_df.Station == \"Knowledge Park - III, Greater Noida - UPPCB\")].index.item(),\n",
    "              metadata_df[(metadata_df.State == \"Bihar\") & (metadata_df.Station == \"More Chowk Waluj, Aurangabad - MPCB\")].index.item(),\n",
    "              metadata_df[(metadata_df.State == \"Bihar\") & (metadata_df.Station == \"MIDC Chilkalthana, Aurangabad - MPCB\")].index.item(),\n",
    "              metadata_df[(metadata_df.State == \"Maharashtra\") & (metadata_df.Station == \"Gurdeo Nagar, Aurangabad - BSPCB\")].index.item(),\n",
    "              metadata_df[(metadata_df.State == \"Bihar\") & (metadata_df.Station == \"Rachnakar Colony, Aurangabad - MPCB\")].index.item(),\n",
    "              metadata_df[(metadata_df.City == \"Noida\") & (metadata_df.Station == \"Knowledge Park - V, Greater Noida - UPPCB\")].index.item()]\n",
    "\n",
    "metadata_df.drop(drop_items, inplace=True)\n",
    "len(metadata_df)"
   ]
  },
  {
   "cell_type": "code",
   "execution_count": 45,
   "metadata": {},
   "outputs": [],
   "source": [
    "assert set(metadata_df.site_id.value_counts()) == {1}"
   ]
  },
  {
   "cell_type": "code",
   "execution_count": 48,
   "metadata": {},
   "outputs": [],
   "source": [
    "metadata_df.to_csv(\"metadata.csv\", index=False)"
   ]
  },
  {
   "cell_type": "markdown",
   "metadata": {},
   "source": [
    "## Downloading data"
   ]
  },
  {
   "cell_type": "code",
   "execution_count": 25,
   "metadata": {},
   "outputs": [],
   "source": [
    "# URL is specific to PM2.5 and PM10 so update it as per your needs\n",
    "def get_url(state, city, site_id):\n",
    "    return f\"https://airquality.cpcb.gov.in/ccr/#/caaqm-dashboard-all/caaqm-view-data-report/%2522%257B%255C%2522parameter_list%255C%2522%253A%255B%257B%255C%2522id%255C%2522%253A0%252C%255C%2522itemName%255C%2522%253A%255C%2522PM2.5%255C%2522%252C%255C%2522itemValue%255C%2522%253A%255C%2522parameter_193%255C%2522%257D%252C%257B%255C%2522id%255C%2522%253A1%252C%255C%2522itemName%255C%2522%253A%255C%2522PM10%255C%2522%252C%255C%2522itemValue%255C%2522%253A%255C%2522parameter_215%255C%2522%257D%255D%252C%255C%2522criteria%255C%2522%253A%255C%252224%2520Hours%255C%2522%252C%255C%2522reportFormat%255C%2522%253A%255C%2522Tabular%255C%2522%252C%255C%2522fromDate%255C%2522%253A%255C%252201-01-2024%2520T00%253A00%253A00Z%255C%2522%252C%255C%2522toDate%255C%2522%253A%255C%252211-12-2024%2520T16%253A45%253A59Z%255C%2522%252C%255C%2522state%255C%2522%253A%255C%2522{state.replace(' ', '%2520')}%255C%2522%252C%255C%2522city%255C%2522%253A%255C%2522{city.replace(' ', '%2520')}%255C%2522%252C%255C%2522station%255C%2522%253A%255C%2522{site_id}%255C%2522%252C%255C%2522parameter%255C%2522%253A%255B%255C%2522parameter_193%255C%2522%252C%255C%2522parameter_215%255C%2522%255D%252C%255C%2522parameterNames%255C%2522%253A%255B%255C%2522PM2.5%255C%2522%252C%255C%2522PM10%255C%2522%255D%257D%2522\""
   ]
  },
  {
   "cell_type": "code",
   "execution_count": 29,
   "metadata": {},
   "outputs": [],
   "source": [
    "# add download directory\n",
    "options = webdriver.ChromeOptions()\n",
    "options.add_experimental_option(\"prefs\", {\n",
    "    \"download.default_directory\": \"/Users/project561/cpcb_downloads\"\n",
    "})\n",
    "\n",
    "driver = webdriver.Chrome(options=options)\n",
    "driver.get(HOME_URL)"
   ]
  },
  {
   "cell_type": "markdown",
   "metadata": {},
   "source": [
    "Enter Captcha manually before moving ahead"
   ]
  },
  {
   "cell_type": "code",
   "execution_count": 30,
   "metadata": {},
   "outputs": [
    {
     "data": {
      "text/html": [
       "<div>\n",
       "<style scoped>\n",
       "    .dataframe tbody tr th:only-of-type {\n",
       "        vertical-align: middle;\n",
       "    }\n",
       "\n",
       "    .dataframe tbody tr th {\n",
       "        vertical-align: top;\n",
       "    }\n",
       "\n",
       "    .dataframe thead th {\n",
       "        text-align: right;\n",
       "    }\n",
       "</style>\n",
       "<table border=\"1\" class=\"dataframe\">\n",
       "  <thead>\n",
       "    <tr style=\"text-align: right;\">\n",
       "      <th></th>\n",
       "      <th>State</th>\n",
       "      <th>City</th>\n",
       "      <th>Station</th>\n",
       "      <th>site_id</th>\n",
       "    </tr>\n",
       "  </thead>\n",
       "  <tbody>\n",
       "    <tr>\n",
       "      <th>0</th>\n",
       "      <td>Andhra Pradesh</td>\n",
       "      <td>Amaravati</td>\n",
       "      <td>Secretariat, Amaravati - APPCB</td>\n",
       "      <td>site_1406</td>\n",
       "    </tr>\n",
       "    <tr>\n",
       "      <th>1</th>\n",
       "      <td>Andhra Pradesh</td>\n",
       "      <td>Anantapur</td>\n",
       "      <td>Gulzarpet, Anantapur - APPCB</td>\n",
       "      <td>site_5632</td>\n",
       "    </tr>\n",
       "  </tbody>\n",
       "</table>\n",
       "</div>"
      ],
      "text/plain": [
       "            State       City                         Station    site_id\n",
       "0  Andhra Pradesh  Amaravati  Secretariat, Amaravati - APPCB  site_1406\n",
       "1  Andhra Pradesh  Anantapur    Gulzarpet, Anantapur - APPCB  site_5632"
      ]
     },
     "execution_count": 30,
     "metadata": {},
     "output_type": "execute_result"
    }
   ],
   "source": [
    "metadata_df = pd.read_csv(\"metadata.csv\")\n",
    "metadata_df.head(2)"
   ]
  },
  {
   "cell_type": "code",
   "execution_count": null,
   "metadata": {},
   "outputs": [
    {
     "name": "stdout",
     "output_type": "stream",
     "text": [
      "Number of files in the download directory: 302\n",
      "Downloading 301 Maharashtra Nagpur Ram Nagar, Nagpur - MPCB site_5793\n",
      "Downloading 302 Maharashtra Nagpur Mahal, Nagpur - MPCB site_5796\n",
      "Downloading 303 Maharashtra Nagpur Opp GPO Civil Lines, Nagpur - MPCB site_303\n",
      "Downloading 304 Maharashtra Nagpur Ambazari, Nagpur - MPCB site_5792\n",
      "Downloading 305 Maharashtra Nanded Sneh Nagar, Nanded - MPCB site_5795\n",
      "Downloading 306 Maharashtra Nashik Pandav Nagari, Nashik - MPCB site_5779\n",
      "Downloading 307 Maharashtra Nashik MIDC Ambad, Nashik - MPCB site_5781\n",
      "Downloading 308 Maharashtra Nashik Gangapur Road, Nashik - MPCB site_304\n",
      "Downloading 309 Maharashtra Nashik Hirawadi, Nashik - MPCB site_5782\n",
      "Downloading 310 Maharashtra Navi Mumbai Tondare-Taloja, Navi Mumbai - MPCB site_5803\n",
      "Downloading 311 Maharashtra Navi Mumbai Sanpada, Navi Mumbai - MPCB site_5815\n",
      "Downloading 312 Maharashtra Navi Mumbai Airoli, Navi Mumbai - MPCB site_261\n",
      "Downloading 313 Maharashtra Navi Mumbai Mahape, Navi Mumbai - MPCB site_5114\n",
      "Downloading 314 Maharashtra Navi Mumbai Kopripada-Vashi, Navi Mumbai - MPCB site_5805\n",
      "Downloading 315 Maharashtra Navi Mumbai Sector-19A Nerul, Navi Mumbai - IITM site_5401\n",
      "Downloading 316 Maharashtra Navi Mumbai Nerul, Navi Mumbai - MPCB site_5103\n",
      "Downloading 317 Maharashtra Navi Mumbai Sector-2E Kalamboli, Navi Mumbai - MPCB site_5799\n",
      "Downloading 318 Maharashtra Parbhani Masoom Colony, Parbhani - MPCB site_5794\n",
      "Downloading 319 Maharashtra Pimpri-Chinchwad Park Street Wakad, Pimpri Chinchwad - MPCB site_5764\n",
      "Downloading 320 Maharashtra Pimpri-Chinchwad Savta Mali Nagar, Pimpri-Chinchwad - IITM site_5998\n",
      "Downloading 321 Maharashtra Pimpri-Chinchwad Thergaon, Pimpri Chinchwad - MPCB site_5765\n",
      "Downloading 322 Maharashtra Pimpri-Chinchwad Gavalinagar, Pimpri Chinchwad - MPCB site_5763\n",
      "Downloading 323 Maharashtra Pune Revenue Colony-Shivajinagar, Pune - IITM site_5409\n",
      "Downloading 324 Maharashtra Pune Mhada Colony, Pune - IITM site_5404\n",
      "Downloading 325 Maharashtra Pune Savitribai Phule Pune University, Pune - MPCB site_5767\n",
      "Downloading 326 Maharashtra Pune Bhumkar Nagar, Pune - IITM site_5988\n",
      "Downloading 327 Maharashtra Pune Hadapsar, Pune - IITM site_5407\n",
      "Downloading 328 Maharashtra Pune Karve Road, Pune - MPCB site_292\n",
      "Downloading 329 Maharashtra Pune Alandi, Pune - IITM site_5405\n"
     ]
    }
   ],
   "source": [
    "files = glob(\"/Users/project561/cpcb_downloads/*.xlsx\")\n",
    "print(\"Number of files in the download directory:\", len(files))\n",
    "site_ids = [re.search(r\"site_\\d+?2024\", file).group()[:-4] for file in files]\n",
    "# assert len(set(site_ids)) == len(site_ids), pd.Series(site_ids).value_counts()\n",
    "site_ids = set(site_ids)\n",
    "\n",
    "for i in range(len(metadata_df)):\n",
    "    state, city, station, site_id = metadata_df.iloc[i]\n",
    "    if site_id in site_ids:\n",
    "        # print(\"Already downloaded\", i, state, city, station, site_id)\n",
    "        continue\n",
    "    print(\"Downloading\", i, state, city, station, site_id)\n",
    "    url = get_url(state, city, site_id)\n",
    "    \n",
    "    # open new tab\n",
    "    driver.execute_script(\"window.open('');\")\n",
    "    driver.switch_to.window(driver.window_handles[-1])\n",
    "    driver.get(url)\n",
    "    excel_button = WebDriverWait(driver, 20).until(\n",
    "    EC.element_to_be_clickable((By.CLASS_NAME, \"fa-file-excel-o\")))\n",
    "    click_it(driver, excel_button)\n",
    "    sleep(1)\n",
    "    \n",
    "    if len(driver.window_handles) > 10:\n",
    "        # close first 9 windows\n",
    "        for _ in range(9):\n",
    "            driver.switch_to.window(driver.window_handles[0])\n",
    "            driver.close()\n",
    "            \n",
    "        driver.switch_to.window(driver.window_handles[-1])\n",
    "        sleep(1)"
   ]
  }
 ],
 "metadata": {
  "kernelspec": {
   "display_name": "base",
   "language": "python",
   "name": "python3"
  },
  "language_info": {
   "codemirror_mode": {
    "name": "ipython",
    "version": 3
   },
   "file_extension": ".py",
   "mimetype": "text/x-python",
   "name": "python",
   "nbconvert_exporter": "python",
   "pygments_lexer": "ipython3",
   "version": "3.12.2"
  }
 },
 "nbformat": 4,
 "nbformat_minor": 2
}
