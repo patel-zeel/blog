{
 "cells": [
  {
   "attachments": {},
   "cell_type": "markdown",
   "metadata": {},
   "source": [
    "---\n",
    "author: Zeel B Patel\n",
    "badges: true\n",
    "categories: NumPy, Mathematics\n",
    "description: A deep dive into basic operations of numpy\n",
    "title: How numpy handles day-to-day algebra?\n",
    "date: '2023-08-26'\n",
    "toc: true\n",
    "---"
   ]
  },
  {
   "cell_type": "code",
   "execution_count": 1,
   "metadata": {},
   "outputs": [
    {
     "name": "stdout",
     "output_type": "stream",
     "text": [
      "118 False\n",
      "140 False\n",
      "umath 8 False\n",
      "umath 10 False\n",
      "umath 12 True\n",
      "core 73 False\n",
      "Yes!\n",
      "numeric 29 False\n",
      "numeric 41 False\n",
      "numeric 1128 False\n",
      "numeric 2515 False\n",
      "numeric 2517 True\n",
      "core 75 False\n",
      "core 77 True\n",
      "core 83 True\n",
      "core 94 True\n",
      "142 False\n",
      "144 True\n"
     ]
    },
    {
     "data": {
      "text/plain": [
       "'1.25.2'"
      ]
     },
     "execution_count": 1,
     "metadata": {},
     "output_type": "execute_result"
    }
   ],
   "source": [
    "import numpy as np\n",
    "\n",
    "np.__version__\n"
   ]
  },
  {
   "cell_type": "markdown",
   "metadata": {},
   "source": [
    "## Motivation"
   ]
  },
  {
   "cell_type": "markdown",
   "metadata": {},
   "source": [
    "In this blog post, we will try to figure out how numpy handles seemingly simple math operations. The motivation behind this exploration is to figure out if there are a few foundational operations behind most of the frequently used functions in numpy. For the sake of right level of abstraction, we will not look into addition, subtraction, multiplication, and division."
   ]
  },
  {
   "cell_type": "markdown",
   "metadata": {},
   "source": [
    "## Pi"
   ]
  },
  {
   "cell_type": "markdown",
   "metadata": {},
   "source": [
    "### Background"
   ]
  },
  {
   "cell_type": "markdown",
   "metadata": {},
   "source": [
    "`pi` is an irrational number and computing its value to a certain precision is a challenging task. [This video](https://youtu.be/gMlf1ELvRzc?si=pWa8Jd2n7GmqT3RL) talks in detail how people used to compute `pi` in the past. At the time of writing this blog post, [Google holds the record](https://cloud.google.com/blog/products/compute/calculating-100-trillion-digits-of-pi-on-google-cloud) for computing `pi` to the highest precision to 100 trilian digits. They used [`y-cruncher` program](http://www.numberworld.org/y-cruncher/) (it's free. try it!) with [Chudnovsky](https://arxiv.org/abs/1809.00533) algorithm to compute `pi`. Here are the first 100 digits of `pi`:\n",
    "\n",
    "$3.1415926535897932384626433832795028841971693993751058209749445923078164062862089986280348253421170679$"
   ]
  },
  {
   "cell_type": "markdown",
   "metadata": {},
   "source": [
    "### Source code"
   ]
  },
  {
   "cell_type": "markdown",
   "metadata": {},
   "source": [
    "This is how `pi` is defined in numpy source code upto 36 digits.\n",
    "\n",
    "[`#define NPY_PI        3.141592653589793238462643383279502884  /* pi */`](https://github.com/numpy/numpy/blob/e841e6337eca767065e27129903dea5ae199fde3/numpy/core/include/numpy/npy_math.h#L77)\n",
    "\n",
    "Let's verify it."
   ]
  },
  {
   "cell_type": "code",
   "execution_count": 2,
   "metadata": {},
   "outputs": [
    {
     "name": "stdout",
     "output_type": "stream",
     "text": [
      "3.1415926535897931159979634685441851615905761718750000000000000000\n"
     ]
    }
   ],
   "source": [
    "print(f\"{np.pi:.64f}\")\n"
   ]
  },
  {
   "cell_type": "markdown",
   "metadata": {},
   "source": [
    "Hmm, that looks off. From 16th digit onwards, the values are different. Let's try to figure out why."
   ]
  },
  {
   "cell_type": "code",
   "execution_count": 3,
   "metadata": {},
   "outputs": [],
   "source": [
    "pi = 3.141592653589793238462643383279502884\n",
    "pi = np.array(pi, dtype=np.float64)\n",
    "pi = f\"{pi:.64f}\"\n",
    "np_pi = f\"{np.pi:.64f}\"\n",
    "assert np_pi == pi"
   ]
  },
  {
   "cell_type": "markdown",
   "metadata": {},
   "source": [
    "Okay, so it seems like converting 36 digits of `pi` to 64 bit precision went wrong from 16th digit onwards. What a waste of last 20 digits of `pi` due to floating point errors! Anyways, let's move on."
   ]
  },
  {
   "cell_type": "markdown",
   "metadata": {},
   "source": [
    "## Power"
   ]
  },
  {
   "cell_type": "markdown",
   "metadata": {},
   "source": [
    "Let's find out what happens when you execute the following code in numpy."
   ]
  },
  {
   "cell_type": "code",
   "execution_count": 6,
   "metadata": {},
   "outputs": [
    {
     "data": {
      "text/plain": [
       "1.1211693641406024"
      ]
     },
     "execution_count": 6,
     "metadata": {},
     "output_type": "execute_result"
    }
   ],
   "source": [
    "number = np.float64(1.1)\n",
    "number**1.2\n"
   ]
  }
 ],
 "metadata": {
  "kernelspec": {
   "display_name": "base",
   "language": "python",
   "name": "python3"
  },
  "language_info": {
   "codemirror_mode": {
    "name": "ipython",
    "version": 3
   },
   "file_extension": ".py",
   "mimetype": "text/x-python",
   "name": "python",
   "nbconvert_exporter": "python",
   "pygments_lexer": "ipython3",
   "version": "3.9.5"
  },
  "orig_nbformat": 4
 },
 "nbformat": 4,
 "nbformat_minor": 2
}
