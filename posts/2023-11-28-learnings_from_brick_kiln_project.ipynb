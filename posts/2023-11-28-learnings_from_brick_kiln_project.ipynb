{
 "cells": [
  {
   "attachments": {},
   "cell_type": "markdown",
   "metadata": {},
   "source": [
    "---\n",
    "author: Zeel B Patel\n",
    "badges: true\n",
    "categories: ML\n",
    "description: Learnings from the Brick Kiln Project\n",
    "title: Learnings from the Brick Kiln Project\n",
    "date: '2023-11-28'\n",
    "toc: true\n",
    "---"
   ]
  },
  {
   "cell_type": "markdown",
   "metadata": {},
   "source": [
    "## Points"
   ]
  },
  {
   "cell_type": "markdown",
   "metadata": {},
   "source": [
    "### Labeling"
   ]
  },
  {
   "cell_type": "markdown",
   "metadata": {},
   "source": [
    "* Labeling is the most important and effort-taking part of the project. It is also most confusing part if not done properly for the images. For example, we needed to make this decision for the images of the brick kilns: \"If brick kiln firing chamber is visible fully or partially at a level where a human would be able to identify it as a brick kiln, we mark it as a brick kiln\".\n",
    "* To ensure good quality of labels, one should allow a small number of images to be labeled by multiple people and then compare the labels. This will help in identifying the mistakes in the labeling process and also help in improving the labeling instructions."
   ]
  }
 ],
 "metadata": {
  "kernelspec": {
   "display_name": "base",
   "language": "python",
   "name": "python3"
  },
  "language_info": {
   "codemirror_mode": {
    "name": "ipython",
    "version": 3
   },
   "file_extension": ".py",
   "mimetype": "text/x-python",
   "name": "python",
   "nbconvert_exporter": "python",
   "pygments_lexer": "ipython3",
   "version": "3.11.5"
  },
  "orig_nbformat": 4
 },
 "nbformat": 4,
 "nbformat_minor": 2
}
