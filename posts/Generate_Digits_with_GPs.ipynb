{
 "cells": [
  {
   "cell_type": "code",
   "execution_count": 390,
   "metadata": {},
   "outputs": [],
   "source": [
    "import os\n",
    "os.environ[\"CUDA_VISIBLE_DEVICES\"] = \"0\"\n",
    "# JAX don't pre-allocate memory; allocate as-needed\n",
    "os.environ[\"XLA_PYTHON_CLIENT_PREALLOCATE\"] = \"false\"\n",
    "\n",
    "from tqdm import tqdm\n",
    "import numpy as np\n",
    "import jax\n",
    "import jax.numpy as jnp\n",
    "import flax.linen as nn\n",
    "\n",
    "from tinygp import kernels, GaussianProcess\n",
    "import optax\n",
    "\n",
    "# load MNIST data\n",
    "from tensorflow.keras.datasets import mnist\n",
    "\n",
    "import matplotlib.pyplot as plt"
   ]
  },
  {
   "cell_type": "code",
   "execution_count": 391,
   "metadata": {},
   "outputs": [
    {
     "name": "stdout",
     "output_type": "stream",
     "text": [
      "(60000, 28, 28) (60000,)\n"
     ]
    }
   ],
   "source": [
    "data = mnist.load_data()\n",
    "\n",
    "X = data[0][0] / 255.0\n",
    "y = data[0][1]\n",
    "\n",
    "print(X.shape, y.shape)"
   ]
  },
  {
   "cell_type": "code",
   "execution_count": 392,
   "metadata": {},
   "outputs": [
    {
     "name": "stdout",
     "output_type": "stream",
     "text": [
      "(10, 28, 28)\n"
     ]
    },
    {
     "data": {
      "image/png": "[encoded data removed]",
      "text/plain": [
       "<Figure size 864x360 with 10 Axes>"
      ]
     },
     "metadata": {
      "needs_background": "light"
     },
     "output_type": "display_data"
    }
   ],
   "source": [
    "# select 100 examples from each class\n",
    "n_each = 10\n",
    "n_classes = 1\n",
    "imgs = jnp.concatenate([X[y==i][:n_each] for i in range(n_classes)])\n",
    "print(imgs.shape)\n",
    "\n",
    "fig, ax = plt.subplots(2, 5, figsize=(12, 5))\n",
    "ax = ax.flatten()\n",
    "for i, axes in zip(range(0, n_each*n_classes, n_each), ax):\n",
    "    axes.imshow(imgs[i].reshape(28, 28), cmap='gray')\n",
    "    axes.axis('off')"
   ]
  },
  {
   "cell_type": "code",
   "execution_count": 393,
   "metadata": {},
   "outputs": [
    {
     "data": {
      "text/plain": [
       "(Array(0., dtype=float32), Array(1., dtype=float32))"
      ]
     },
     "execution_count": 393,
     "metadata": {},
     "output_type": "execute_result"
    },
    {
     "data": {
      "image/png": "[encoded data removed]",
      "text/plain": [
       "<Figure size 432x288 with 1 Axes>"
      ]
     },
     "metadata": {
      "needs_background": "light"
     },
     "output_type": "display_data"
    }
   ],
   "source": [
    "plt.imshow(imgs[0], cmap='gray');\n",
    "imgs.min(), imgs.max()"
   ]
  },
  {
   "cell_type": "code",
   "execution_count": 423,
   "metadata": {},
   "outputs": [],
   "source": [
    "class Transformer(nn.Module):\n",
    "    \"\"\"A small neural network used to non-linearly transform the input data\"\"\"\n",
    "\n",
    "    @nn.compact\n",
    "    def __call__(self, x):\n",
    "        x = nn.Dense(features=256)(x)\n",
    "        x = nn.relu(x)\n",
    "        x = nn.Dense(features=256)(x)\n",
    "        x = nn.relu(x)\n",
    "        # x = nn.Dense(features=256)(x)\n",
    "        # x = nn.relu(x)\n",
    "        # x = nn.Dense(features=256)(x)\n",
    "        # x = nn.relu(x)\n",
    "        x = nn.Dense(features=256)(x)\n",
    "        return x\n",
    "\n",
    "def get_gp(theta, X):\n",
    "    scale = jnp.exp(theta['log_scale'])\n",
    "    var = jnp.exp(theta['log_var'])\n",
    "    noise_var = jnp.exp(theta['log_noise_var'])\n",
    "    nn_params = theta['nn_params']\n",
    "    nn_params = jax.lax.stop_gradient(nn_params) \n",
    "    \n",
    "    X_nn = nn_model.apply(nn_params, X)\n",
    "    print(X.shape, X_nn.shape)\n",
    "\n",
    "    kernel = var * kernels.ExpSquared(scale=scale)\n",
    "    return GaussianProcess(kernel, X_nn), X_nn\n",
    "\n",
    "def loss_fn(theta, X, y):\n",
    "    gp, X_nn = get_gp(theta, X)\n",
    "    \n",
    "    print(\"y\", y.shape, y.max(), y.min())\n",
    "    y_logit = jnp.log(y+1e-6) - jnp.log1p(-y+1e-6)\n",
    "    return -jax.vmap(gp.log_probability)(y_logit).mean()# + jnp.mean((X_nn.ravel() - y.ravel())**2)\n",
    "\n",
    "value_and_grad_fn = jax.jit(jax.value_and_grad(loss_fn))"
   ]
  },
  {
   "cell_type": "code",
   "execution_count": 424,
   "metadata": {},
   "outputs": [
    {
     "name": "stdout",
     "output_type": "stream",
     "text": [
      "(784, 2) (784, 256)\n",
      "y (10, 784) 1.0 0.0\n"
     ]
    },
    {
     "data": {
      "text/plain": [
       "Array(6473231., dtype=float32)"
      ]
     },
     "execution_count": 424,
     "metadata": {},
     "output_type": "execute_result"
    }
   ],
   "source": [
    "n, h, w = imgs.shape\n",
    "x_grid = jnp.linspace(0, 1, h)\n",
    "y_grid = jnp.linspace(0, 1, w)\n",
    "X, Y = jnp.meshgrid(x_grid, y_grid)\n",
    "X_input = jnp.stack([X.flatten(), Y.flatten()], axis=1)\n",
    "y_input = imgs.reshape(n, -1)\n",
    "\n",
    "nn_model = Transformer()\n",
    "key = jax.random.PRNGKey(0)\n",
    "nn_params = nn_model.init(key, X_input)\n",
    "\n",
    "trial_theta = {\"log_scale\": np.log(1.0), \"log_var\": np.log(1.0), \"log_noise_var\": np.log(1.0), \"nn_params\": nn_params}\n",
    "value = loss_fn(trial_theta, X_input, y_input)\n",
    "value"
   ]
  },
  {
   "cell_type": "code",
   "execution_count": 425,
   "metadata": {},
   "outputs": [],
   "source": [
    "# def nn_loss_fn(theta, X, y):\n",
    "#     y_pred = nn_model.apply(theta['nn_params'], X)\n",
    "#     print(y_pred.shape, y.shape)\n",
    "#     return jnp.mean((y_pred.ravel() - y.ravel())**2)\n",
    "\n",
    "# nn_value_and_grad_fn = jax.jit(jax.value_and_grad(nn_loss_fn))\n",
    "\n",
    "# opt = optax.adam(1e-3)\n",
    "# opt_state = opt.init(trial_theta)\n",
    "\n",
    "# def nn_one_step(theta_and_state, aux):\n",
    "#     theta, opt_state = theta_and_state\n",
    "#     value, grad = nn_value_and_grad_fn(theta, X_input, y_input)\n",
    "#     updates, opt_state = opt.update(grad, opt_state)\n",
    "#     new_theta = optax.apply_updates(theta, updates)\n",
    "#     return (new_theta, opt_state), value\n",
    "\n",
    "# (trial_theta, opt_state), loss_history = jax.lax.scan(nn_one_step, (trial_theta, opt_state), None, length=1000)\n",
    "# print(\"final_loss\", loss_history[-1])\n",
    "\n",
    "# plt.plot(loss_history)\n",
    "\n",
    "# value = loss_fn(trial_theta, X_input, y_input)\n",
    "# value"
   ]
  },
  {
   "cell_type": "code",
   "execution_count": 426,
   "metadata": {},
   "outputs": [],
   "source": [
    "# plt.imshow(nn_model.apply(trial_theta['nn_params'], X_input).reshape(28, 28).__array__(), cmap='gray');"
   ]
  },
  {
   "cell_type": "code",
   "execution_count": 427,
   "metadata": {},
   "outputs": [
    {
     "name": "stdout",
     "output_type": "stream",
     "text": [
      "(784, 2) (784, 256)\n",
      "y (10, 784) Traced<ShapedArray(float32[])>with<DynamicJaxprTrace(level=2/0)> Traced<ShapedArray(float32[])>with<DynamicJaxprTrace(level=2/0)>\n"
     ]
    }
   ],
   "source": [
    "theta = jax.tree_map(jnp.array, trial_theta)\n",
    "\n",
    "optimizer = optax.adam(1e-1)\n",
    "state = optimizer.init(theta)\n",
    "epochs = 5000\n",
    "\n",
    "def one_step(theta_and_state, aux):\n",
    "    theta, state = theta_and_state\n",
    "    loss, grads = value_and_grad_fn(theta, X_input, y_input)\n",
    "    updates, state = optimizer.update(grads, state)\n",
    "    theta = optax.apply_updates(theta, updates)\n",
    "    return (theta, state), loss\n",
    "\n",
    "(theta, state), loss_history = jax.lax.scan(one_step, (theta, state), None, length=epochs)"
   ]
  },
  {
   "cell_type": "code",
   "execution_count": 428,
   "metadata": {},
   "outputs": [
    {
     "data": {
      "image/png": "[encoded data removed]",
      "text/plain": [
       "<Figure size 432x288 with 1 Axes>"
      ]
     },
     "metadata": {
      "needs_background": "light"
     },
     "output_type": "display_data"
    }
   ],
   "source": [
    "plt.plot(loss_history[1000:]);"
   ]
  },
  {
   "cell_type": "code",
   "execution_count": 429,
   "metadata": {},
   "outputs": [
    {
     "name": "stdout",
     "output_type": "stream",
     "text": [
      "(784, 2) (784, 256)\n",
      "lengthscale: 0.2095336765050888, variance: 64.935546875, noise: 1.0\n"
     ]
    },
    {
     "data": {
      "image/png": "[encoded data removed]",
      "text/plain": [
       "<Figure size 864x360 with 10 Axes>"
      ]
     },
     "metadata": {
      "needs_background": "light"
     },
     "output_type": "display_data"
    }
   ],
   "source": [
    "gp, init_gen = get_gp(theta, X_input)\n",
    "print(f\"lengthscale: {jnp.exp(theta['log_scale'])}, variance: {jnp.exp(theta['log_var'])}, noise: {jnp.exp(theta['log_noise_var'])}\")\n",
    "\n",
    "gen_imgs = jax.nn.sigmoid(gp.sample(jax.random.PRNGKey(0), (10,)))\n",
    "\n",
    "# plt.imshow(init_gen.reshape(28, 28).__array__(), cmap='gray');\n",
    "\n",
    "fig, ax = plt.subplots(2, 5, figsize=(12, 5))\n",
    "ax = ax.flatten()\n",
    "for i, axes in zip(range(10), ax):\n",
    "    axes.imshow(gen_imgs[i].reshape(28, 28), cmap='gray')\n",
    "    axes.axis('off')"
   ]
  },
  {
   "cell_type": "code",
   "execution_count": 430,
   "metadata": {},
   "outputs": [
    {
     "data": {
      "text/plain": [
       "Array(0.40566167, dtype=float32)"
      ]
     },
     "execution_count": 430,
     "metadata": {},
     "output_type": "execute_result"
    }
   ],
   "source": [
    "# gen_imgs[0].min(), gen_imgs[0].max()\n",
    "\n",
    "jnp.mean((gen_imgs[0] - y_input[0])**2)"
   ]
  },
  {
   "cell_type": "code",
   "execution_count": null,
   "metadata": {},
   "outputs": [],
   "source": []
  }
 ],
 "metadata": {
  "kernelspec": {
   "display_name": "torch_dt",
   "language": "python",
   "name": "python3"
  },
  "language_info": {
   "codemirror_mode": {
    "name": "ipython",
    "version": 3
   },
   "file_extension": ".py",
   "mimetype": "text/x-python",
   "name": "python",
   "nbconvert_exporter": "python",
   "pygments_lexer": "ipython3",
   "version": "3.9.12"
  },
  "orig_nbformat": 4
 },
 "nbformat": 4,
 "nbformat_minor": 2
}
