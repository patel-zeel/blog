{
 "cells": [
  {
   "cell_type": "raw",
   "metadata": {},
   "source": [
    "---\n",
    "aliases:\n",
    "- /GitHub/2022/04/06/GitHub_FAQs\n",
    "author: Zeel B Patel\n",
    "badges: true\n",
    "categories:\n",
    "- GitHub\n",
    "date: '2022-04-06'\n",
    "description: This is a collection of FAQs/road-blocks/queries/issues I had over the\n",
    "  past 2 years of engagement with GitHub.\n",
    "output-file: 2022-04-06-github_faqs.html\n",
    "title: GitHub Contrubuting FAQs\n",
    "toc: true\n",
    "\n",
    "---\n",
    "\n"
   ]
  },
  {
   "cell_type": "markdown",
   "metadata": {
    "id": "JA9AoZfQhOB1"
   },
   "source": [
    "## Q1: What is an efficient way to work on multiple issues at once?\n",
    "\n",
    "Create separate branches for each issue. Do not work on the master branch.\n",
    "\n",
    "### Q1.1: Why not?\n",
    "\n",
    "We will see that in Q5.\n",
    "\n",
    "## Q2: What to do if the main (or master) gets updated before I open a PR?\n",
    "\n",
    "Pull the changes directly to your branch with: \n",
    "```py\n",
    "git pull https://github.com/probml/pyprobml\n",
    "```\n",
    "\n",
    "## Q3: What to do with the fork's main when the original main is updated?\n",
    "\n",
    "Fetch upstream with GitHub GUI or use the same solution given in Q2.\n",
    "\n",
    "## Q4: Why and when keeping the fork's main up to date with the original main is important?\n",
    "\n",
    "Whenever we need to create new branches (usually from the fork's main).\n",
    "\n",
    "## Q5: How to update a change in a PR that is open?\n",
    "\n",
    "Push the change to the corresponding branch and PR will get updated automatically."
   ]
  }
 ],
 "metadata": {
  "colab": {
   "collapsed_sections": [],
   "name": "2022-04-06-GitHub-FAQs.ipynb",
   "provenance": []
  },
  "kernelspec": {
   "display_name": "Python 3",
   "name": "python3"
  },
  "language_info": {
   "name": "python"
  }
 },
 "nbformat": 4,
 "nbformat_minor": 0
}
