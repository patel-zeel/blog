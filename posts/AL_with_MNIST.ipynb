{
 "cells": [
  {
   "attachments": {},
   "cell_type": "markdown",
   "metadata": {},
   "source": [
    "---\n",
    "author: Zeel B Patel\n",
    "badges: true\n",
    "categories: ML\n",
    "description: Active Learning with MNIST\n",
    "title: Active Learning with MNIST\n",
    "date: '2023-09-30'\n",
    "toc: true\n",
    "---"
   ]
  },
  {
   "cell_type": "markdown",
   "metadata": {},
   "source": [
    "## Imports"
   ]
  },
  {
   "cell_type": "code",
   "execution_count": 15,
   "metadata": {},
   "outputs": [],
   "source": [
    "import pandas as pd\n",
    "import numpy as np\n",
    "from sklearn.ensemble import RandomForestClassifier\n",
    "from sklearn.model_selection import train_test_split\n",
    "from sklearn.datasets import fetch_openml\n",
    "from sklearn.metrics import classification_report, precision_score, recall_score, f1_score, confusion_matrix\n",
    "\n",
    "import matplotlib.pyplot as plt\n",
    "from tqdm import tqdm\n",
    "\n",
    "import psutil"
   ]
  },
  {
   "cell_type": "markdown",
   "metadata": {},
   "source": [
    "## Load data"
   ]
  },
  {
   "cell_type": "code",
   "execution_count": 16,
   "metadata": {},
   "outputs": [
    {
     "name": "stderr",
     "output_type": "stream",
     "text": [
      "/home/patel_zeel/miniconda3/lib/python3.9/site-packages/sklearn/datasets/_openml.py:1002: FutureWarning: The default value of `parser` will change from `'liac-arff'` to `'auto'` in 1.4. You can set `parser='auto'` to silence this warning. Therefore, an `ImportError` will be raised from 1.4 if the dataset is dense and pandas is not installed. Note that the pandas parser may return different data types. See the Notes Section in fetch_openml's API doc for details.\n",
      "  warn(\n"
     ]
    }
   ],
   "source": [
    "X, y = fetch_openml('mnist_784', version=1, data_home='data', return_X_y=True, as_frame=False)"
   ]
  },
  {
   "cell_type": "markdown",
   "metadata": {},
   "source": [
    "## "
   ]
  },
  {
   "cell_type": "code",
   "execution_count": 17,
   "metadata": {},
   "outputs": [
    {
     "name": "stdout",
     "output_type": "stream",
     "text": [
      "(60000, 784) (10000, 784) (60000,) (10000,)\n"
     ]
    }
   ],
   "source": [
    "X_train, X_test, y_train, y_test = X[:60000], X[60000:], y[:60000], y[60000:]\n",
    "print(X_train.shape, X_test.shape, y_train.shape, y_test.shape)"
   ]
  },
  {
   "cell_type": "markdown",
   "metadata": {},
   "source": [
    "## Check if things are working as expected"
   ]
  },
  {
   "cell_type": "code",
   "execution_count": 18,
   "metadata": {},
   "outputs": [
    {
     "name": "stdout",
     "output_type": "stream",
     "text": [
      "              precision    recall  f1-score   support\n",
      "\n",
      "           0       0.96      0.99      0.97       980\n",
      "           1       0.98      0.99      0.98      1135\n",
      "           2       0.94      0.94      0.94      1032\n",
      "           3       0.94      0.94      0.94      1010\n",
      "           4       0.95      0.93      0.94       982\n",
      "           5       0.96      0.93      0.94       892\n",
      "           6       0.96      0.97      0.96       958\n",
      "           7       0.95      0.92      0.94      1028\n",
      "           8       0.94      0.93      0.93       974\n",
      "           9       0.88      0.94      0.91      1009\n",
      "\n",
      "    accuracy                           0.95     10000\n",
      "   macro avg       0.95      0.95      0.95     10000\n",
      "weighted avg       0.95      0.95      0.95     10000\n",
      "\n",
      "CPU times: user 1min 33s, sys: 652 ms, total: 1min 34s\n",
      "Wall time: 3.73 s\n"
     ]
    }
   ],
   "source": [
    "%%time\n",
    "\n",
    "clf = RandomForestClassifier(n_estimators=100, max_depth=10, random_state=0, n_jobs=psutil.cpu_count()//2)\n",
    "clf.fit(X_train, y_train)\n",
    "preds = clf.predict(X_test)\n",
    "\n",
    "print(classification_report(y_test, preds))"
   ]
  },
  {
   "cell_type": "markdown",
   "metadata": {},
   "source": [
    "## Convert to one v/s rest problem"
   ]
  },
  {
   "cell_type": "code",
   "execution_count": 19,
   "metadata": {},
   "outputs": [],
   "source": [
    "y_c = (y == '2').astype(np.int8)\n",
    "\n",
    "y_c_train, y_c_test = y_c[:60000], y_c[60000:]"
   ]
  },
  {
   "cell_type": "markdown",
   "metadata": {},
   "source": [
    "## Check if things are working as expected"
   ]
  },
  {
   "cell_type": "code",
   "execution_count": 20,
   "metadata": {},
   "outputs": [],
   "source": [
    "clf = RandomForestClassifier(n_estimators=100, max_depth=10, random_state=0, n_jobs=psutil.cpu_count()//2)\n",
    "clf.fit(X_train, y_c_train)\n",
    "preds = clf.predict(X_test)"
   ]
  },
  {
   "cell_type": "code",
   "execution_count": 21,
   "metadata": {},
   "outputs": [
    {
     "name": "stdout",
     "output_type": "stream",
     "text": [
      "Precision 0.9808988764044944\n",
      "Recall 0.8459302325581395\n"
     ]
    }
   ],
   "source": [
    "print(\"Precision\", precision_score(y_c_test, preds))\n",
    "print(\"Recall\", recall_score(y_c_test, preds))"
   ]
  },
  {
   "cell_type": "markdown",
   "metadata": {},
   "source": [
    "## Divide data into train and pool"
   ]
  },
  {
   "cell_type": "code",
   "execution_count": 32,
   "metadata": {},
   "outputs": [
    {
     "name": "stdout",
     "output_type": "stream",
     "text": [
      "(200, 784) (69800, 784) (200,) (69800,)\n",
      "Number of samples in each class for training set {0: 179, 1: 21}\n",
      "One v/s rest ratio 8.523809523809524 for training set\n"
     ]
    }
   ],
   "source": [
    "train_size = 200\n",
    "X_train, X_pool, y_c_train, y_c_pool = train_test_split(X, y_c, train_size=train_size, random_state=42)\n",
    "print(X_train.shape, X_pool.shape, y_c_train.shape, y_c_pool.shape)\n",
    "\n",
    "# plot a bar chart of the number of samples in each class for the training and test set\n",
    "unique, counts = np.unique(y_c_train, return_counts=True)\n",
    "print(\"Number of samples in each class for training set\", dict(zip(unique, counts)))\n",
    "print(\"One v/s rest ratio\", counts[0]/counts[1], \"for training set\")"
   ]
  },
  {
   "cell_type": "markdown",
   "metadata": {},
   "source": [
    "## Prof. Ermon's method"
   ]
  },
  {
   "cell_type": "code",
   "execution_count": 25,
   "metadata": {},
   "outputs": [
    {
     "name": "stdout",
     "output_type": "stream",
     "text": [
      "(200, 784) (69800, 784) (200,) (69800,)\n",
      "Test: Number of false positives 8 Number of true positives 283\n",
      "Iteration 0 Precision 0.9725085910652921 Recall 0.2742248062015504 Cost 0\n",
      "\n",
      "Pool: Number of false positives 73 Number of true positives 1884 Number of false negatives 5085\n",
      "Test: Number of false positives 209 Number of true positives 932 Number of false negatives 100\n",
      "Iteration 1 Precision 0.8168273444347064 Recall 0.9031007751937985 Cost 1957\n",
      "\n",
      "Pool: Number of false positives 1389 Number of true positives 4386 Number of false negatives 699\n",
      "Test: Number of false positives 489 Number of true positives 1016 Number of false negatives 16\n",
      "Iteration 2 Precision 0.6750830564784053 Recall 0.9844961240310077 Cost 5775\n",
      "\n",
      "Pool: Number of false positives 4088 Number of true positives 598 Number of false negatives 101\n",
      "Test: Number of false positives 12 Number of true positives 1006 Number of false negatives 26\n",
      "Iteration 3 Precision 0.9882121807465619 Recall 0.9748062015503876 Cost 4686\n",
      "\n",
      "Pool: Number of false positives 18 Number of true positives 15 Number of false negatives 86\n",
      "Test: Number of false positives 10 Number of true positives 1010 Number of false negatives 22\n",
      "Iteration 4 Precision 0.9901960784313726 Recall 0.9786821705426356 Cost 33\n",
      "\n",
      "Pool: Number of false positives 13 Number of true positives 5 Number of false negatives 81\n",
      "Test: Number of false positives 11 Number of true positives 1010 Number of false negatives 22\n",
      "Iteration 5 Precision 0.9892262487757101 Recall 0.9786821705426356 Cost 18\n",
      "\n",
      "Pool: Number of false positives 5 Number of true positives 2 Number of false negatives 79\n",
      "Test: Number of false positives 10 Number of true positives 1011 Number of false negatives 21\n",
      "Iteration 6 Precision 0.990205680705191 Recall 0.9796511627906976 Cost 7\n",
      "\n",
      "Pool: Number of false positives 5 Number of true positives 1 Number of false negatives 78\n",
      "Test: Number of false positives 9 Number of true positives 1011 Number of false negatives 21\n",
      "Iteration 7 Precision 0.9911764705882353 Recall 0.9796511627906976 Cost 6\n",
      "\n",
      "Pool: Number of false positives 5 Number of true positives 2 Number of false negatives 76\n",
      "Test: Number of false positives 11 Number of true positives 1010 Number of false negatives 22\n",
      "Iteration 8 Precision 0.9892262487757101 Recall 0.9786821705426356 Cost 7\n",
      "\n",
      "Pool: Number of false positives 5 Number of true positives 2 Number of false negatives 74\n",
      "Test: Number of false positives 9 Number of true positives 1010 Number of false negatives 22\n",
      "Iteration 9 Precision 0.9911678115799804 Recall 0.9786821705426356 Cost 7\n",
      "\n",
      "Pool: Number of false positives 3 Number of true positives 1 Number of false negatives 73\n",
      "Test: Number of false positives 12 Number of true positives 1010 Number of false negatives 22\n",
      "Iteration 10 Precision 0.9882583170254403 Recall 0.9786821705426356 Cost 4\n"
     ]
    }
   ],
   "source": [
    "X_train, X_pool, y_c_train, y_c_pool = train_test_split(X, y_c, train_size=train_size, random_state=42)\n",
    "print(X_train.shape, X_pool.shape, y_c_train.shape, y_c_pool.shape)\n",
    "\n",
    "clf = RandomForestClassifier(n_estimators=100, max_depth=10, random_state=0, n_jobs=psutil.cpu_count()//2)\n",
    "clf.fit(X_train, y_c_train)\n",
    "preds = clf.predict(X_test)\n",
    "\n",
    "test_recall = [recall_score(y_c_test, preds)]\n",
    "test_precision = [precision_score(y_c_test, preds)]\n",
    "positives = [np.sum(y_c_train)]\n",
    "negatives = [len(y_c_train) - positives[-1]]\n",
    "labeling_cost = [0]\n",
    "tp = np.where((preds == 1) & (y_c_test == 1))[0]\n",
    "fp = np.where((preds == 1) & (y_c_test == 0))[0]\n",
    "print(\"Test: Number of false positives\", len(fp), \"Number of true positives\", len(tp))\n",
    "print(\"Iteration\", 0, \"Precision\", test_precision[-1], \"Recall\", test_recall[-1], \"Cost\", labeling_cost[-1])\n",
    "\n",
    "al_iters = 10\n",
    "\n",
    "for iter in range(al_iters):\n",
    "    print()\n",
    "    preds = clf.predict(X_pool)\n",
    "    # pred_proba = clf.predict_proba(X_pool)\n",
    "    # print(pred_proba.shape)\n",
    "    # identify instances predicted as positive but are actually negative (false positives)\n",
    "    # we only pick points with more than 90% probability of being positive\n",
    "    # fp = np.where((pred_proba[:, 1] > 0.8) & (y_pool == 0))[0]\n",
    "    fp = np.where((preds == 1) & (y_c_pool == 0))[0]\n",
    "    tp = np.where((preds == 1) & (y_c_pool == 1))[0]\n",
    "    fn = np.where((preds == 0) & (y_c_pool == 1))[0]\n",
    "    print(\"Pool: Number of false positives\", len(fp), \"Number of true positives\", len(tp), \"Number of false negatives\", len(fn))\n",
    "    tp_fp = np.concatenate((tp, fp))\n",
    "    # add them to the training set\n",
    "    X_train = np.concatenate((X_train, X_pool[tp_fp]))\n",
    "    y_c_train = np.concatenate((y_c_train, y_c_pool[tp_fp]))\n",
    "    positives.append(np.sum(y_c_train))\n",
    "    negatives.append(len(y_c_train) - positives[-1])\n",
    "    # remove from the pool set\n",
    "    X_pool = np.delete(X_pool, tp_fp, axis=0)\n",
    "    y_c_pool = np.delete(y_c_pool, tp_fp)\n",
    "    # add the cost of labeling to the list\n",
    "    labeling_cost.append(len(tp_fp))\n",
    "    # train the classifier again\n",
    "    clf.fit(X_train, y_c_train)\n",
    "    # predict on the test set\n",
    "    preds = clf.predict(X_test)\n",
    "    tp = np.where((preds == 1) & (y_c_test == 1))[0]\n",
    "    fp = np.where((preds == 1) & (y_c_test == 0))[0]\n",
    "    fn = np.where((preds == 0) & (y_c_test == 1))[0]\n",
    "    print(\"Test: Number of false positives\", len(fp), \"Number of true positives\", len(tp), \"Number of false negatives\", len(fn))\n",
    "    # calculate precision and recall\n",
    "    test_recall.append(recall_score(y_c_test, preds))\n",
    "    test_precision.append(precision_score(y_c_test, preds))\n",
    "    # print information\n",
    "    print(\"Iteration\", iter+1, \"Precision\", test_precision[-1], \"Recall\", test_recall[-1], \"Cost\", labeling_cost[-1])\n",
    "\n",
    "labeling_cost = np.cumsum(labeling_cost)"
   ]
  },
  {
   "cell_type": "code",
   "execution_count": 26,
   "metadata": {},
   "outputs": [
    {
     "data": {
      "text/plain": [
       "Text(0, 0.5, 'True Label')"
      ]
     },
     "execution_count": 26,
     "metadata": {},
     "output_type": "execute_result"
    },
    {
     "data": {
      "image/png": "[encoded data removed]",
      "text/plain": [
       "<Figure size 640x480 with 1 Axes>"
      ]
     },
     "metadata": {},
     "output_type": "display_data"
    }
   ],
   "source": [
    "# plot the confusion matrix\n",
    "import itertools\n",
    "cm = confusion_matrix(y_c_test, preds)\n",
    "plt.imshow(cm, interpolation=\"nearest\", cmap=plt.cm.Blues)\n",
    "# add the numbers inside the boxes\n",
    "thresh = cm.max() / 2.0\n",
    "for i, j in itertools.product(range(cm.shape[0]), range(cm.shape[1])):\n",
    "    plt.text(j, i, cm[i, j], horizontalalignment=\"center\", color=\"white\" if cm[i, j] > thresh else \"black\")\n",
    "plt.title(\"Confusion Matrix\")\n",
    "plt.xlabel(\"Predicted Label\")\n",
    "plt.ylabel(\"True Label\")"
   ]
  },
  {
   "cell_type": "code",
   "execution_count": 31,
   "metadata": {},
   "outputs": [
    {
     "data": {
      "text/html": [
       "<div>\n",
       "<style scoped>\n",
       "    .dataframe tbody tr th:only-of-type {\n",
       "        vertical-align: middle;\n",
       "    }\n",
       "\n",
       "    .dataframe tbody tr th {\n",
       "        vertical-align: top;\n",
       "    }\n",
       "\n",
       "    .dataframe thead th {\n",
       "        text-align: right;\n",
       "    }\n",
       "</style>\n",
       "<table border=\"1\" class=\"dataframe\">\n",
       "  <thead>\n",
       "    <tr style=\"text-align: right;\">\n",
       "      <th></th>\n",
       "      <th>Cost</th>\n",
       "      <th>Train_Positives</th>\n",
       "      <th>Train_Negatives</th>\n",
       "      <th>Test_Precision</th>\n",
       "      <th>Test_Recall</th>\n",
       "    </tr>\n",
       "  </thead>\n",
       "  <tbody>\n",
       "    <tr>\n",
       "      <th>0</th>\n",
       "      <td>0</td>\n",
       "      <td>21</td>\n",
       "      <td>179</td>\n",
       "      <td>0.972509</td>\n",
       "      <td>0.274225</td>\n",
       "    </tr>\n",
       "    <tr>\n",
       "      <th>1</th>\n",
       "      <td>1957</td>\n",
       "      <td>1905</td>\n",
       "      <td>252</td>\n",
       "      <td>0.816827</td>\n",
       "      <td>0.903101</td>\n",
       "    </tr>\n",
       "    <tr>\n",
       "      <th>2</th>\n",
       "      <td>7732</td>\n",
       "      <td>6291</td>\n",
       "      <td>1641</td>\n",
       "      <td>0.675083</td>\n",
       "      <td>0.984496</td>\n",
       "    </tr>\n",
       "    <tr>\n",
       "      <th>3</th>\n",
       "      <td>12418</td>\n",
       "      <td>6889</td>\n",
       "      <td>5729</td>\n",
       "      <td>0.988212</td>\n",
       "      <td>0.974806</td>\n",
       "    </tr>\n",
       "    <tr>\n",
       "      <th>4</th>\n",
       "      <td>12451</td>\n",
       "      <td>6904</td>\n",
       "      <td>5747</td>\n",
       "      <td>0.990196</td>\n",
       "      <td>0.978682</td>\n",
       "    </tr>\n",
       "    <tr>\n",
       "      <th>5</th>\n",
       "      <td>12469</td>\n",
       "      <td>6909</td>\n",
       "      <td>5760</td>\n",
       "      <td>0.989226</td>\n",
       "      <td>0.978682</td>\n",
       "    </tr>\n",
       "    <tr>\n",
       "      <th>6</th>\n",
       "      <td>12476</td>\n",
       "      <td>6911</td>\n",
       "      <td>5765</td>\n",
       "      <td>0.990206</td>\n",
       "      <td>0.979651</td>\n",
       "    </tr>\n",
       "    <tr>\n",
       "      <th>7</th>\n",
       "      <td>12482</td>\n",
       "      <td>6912</td>\n",
       "      <td>5770</td>\n",
       "      <td>0.991176</td>\n",
       "      <td>0.979651</td>\n",
       "    </tr>\n",
       "    <tr>\n",
       "      <th>8</th>\n",
       "      <td>12489</td>\n",
       "      <td>6914</td>\n",
       "      <td>5775</td>\n",
       "      <td>0.989226</td>\n",
       "      <td>0.978682</td>\n",
       "    </tr>\n",
       "    <tr>\n",
       "      <th>9</th>\n",
       "      <td>12496</td>\n",
       "      <td>6916</td>\n",
       "      <td>5780</td>\n",
       "      <td>0.991168</td>\n",
       "      <td>0.978682</td>\n",
       "    </tr>\n",
       "    <tr>\n",
       "      <th>10</th>\n",
       "      <td>12500</td>\n",
       "      <td>6917</td>\n",
       "      <td>5783</td>\n",
       "      <td>0.988258</td>\n",
       "      <td>0.978682</td>\n",
       "    </tr>\n",
       "  </tbody>\n",
       "</table>\n",
       "</div>"
      ],
      "text/plain": [
       "     Cost  Train_Positives  Train_Negatives  Test_Precision  Test_Recall\n",
       "0       0               21              179        0.972509     0.274225\n",
       "1    1957             1905              252        0.816827     0.903101\n",
       "2    7732             6291             1641        0.675083     0.984496\n",
       "3   12418             6889             5729        0.988212     0.974806\n",
       "4   12451             6904             5747        0.990196     0.978682\n",
       "5   12469             6909             5760        0.989226     0.978682\n",
       "6   12476             6911             5765        0.990206     0.979651\n",
       "7   12482             6912             5770        0.991176     0.979651\n",
       "8   12489             6914             5775        0.989226     0.978682\n",
       "9   12496             6916             5780        0.991168     0.978682\n",
       "10  12500             6917             5783        0.988258     0.978682"
      ]
     },
     "execution_count": 31,
     "metadata": {},
     "output_type": "execute_result"
    }
   ],
   "source": [
    "pd.DataFrame({\"Cost\": labeling_cost, \"Train_Positives\": positives, \"Train_Negatives\": negatives, \"Test_Precision\": test_precision, \"Test_Recall\": test_recall})"
   ]
  }
 ],
 "metadata": {
  "kernelspec": {
   "display_name": "base",
   "language": "python",
   "name": "python3"
  },
  "language_info": {
   "codemirror_mode": {
    "name": "ipython",
    "version": 3
   },
   "file_extension": ".py",
   "mimetype": "text/x-python",
   "name": "python",
   "nbconvert_exporter": "python",
   "pygments_lexer": "ipython3",
   "version": "3.9.5"
  },
  "orig_nbformat": 4
 },
 "nbformat": 4,
 "nbformat_minor": 2
}
