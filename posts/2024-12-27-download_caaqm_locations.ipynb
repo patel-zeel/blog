{
 "cells": [
  {
   "cell_type": "markdown",
   "metadata": {},
   "source": [
    "---\n",
    "author: Zeel B Patel\n",
    "badges: true\n",
    "categories:\n",
    "- Data\n",
    "date: '2024-12-27'\n",
    "description: Download CPCB CAAQM locations using Selenium\n",
    "title: Download CPCB CAAQM locations\n",
    "toc: true\n",
    "---"
   ]
  },
  {
   "cell_type": "code",
   "execution_count": 1,
   "metadata": {},
   "outputs": [
    {
     "name": "stdout",
     "output_type": "stream",
     "text": [
      "rm: log.txt: No such file or directory\n"
     ]
    }
   ],
   "source": [
    "try:\n",
    "    import selenium\n",
    "except ModuleNotFoundError:\n",
    "    %pip install selenium\n",
    "\n",
    "import os\n",
    "import re\n",
    "import numpy as np\n",
    "import pandas as pd\n",
    "\n",
    "from tqdm.notebook import tqdm, trange\n",
    "from time import sleep, time\n",
    "from selenium import webdriver\n",
    "from selenium.webdriver.support.ui import Select\n",
    "from selenium.webdriver.common.by import By\n",
    "from selenium.webdriver.support.ui import WebDriverWait\n",
    "from selenium.webdriver.support import expected_conditions as EC\n",
    "\n",
    "!rm log.txt\n",
    "\n",
    "def print_it(*args, **kwargs):\n",
    "    print(*args, **kwargs)\n",
    "    with open('log.txt', 'a') as f:\n",
    "        print(*args, **kwargs, file=f)\n",
    "\n",
    "global_init = time()"
   ]
  },
  {
   "cell_type": "code",
   "execution_count": 2,
   "metadata": {},
   "outputs": [],
   "source": [
    "# Set up WebDriver\n",
    "op = webdriver.ChromeOptions()\n",
    "\n",
    "driver = webdriver.Chrome(options=op)\n",
    "\n",
    "# Navigate to the website and manually solve the CAPTCHA\n",
    "driver.get(\"https://airquality.cpcb.gov.in/ccr/#/caaqm-dashboard-all/caaqm-landing\")"
   ]
  },
  {
   "cell_type": "markdown",
   "metadata": {},
   "source": [
    "> Manually solve captcha before moving on to the next cell.."
   ]
  },
  {
   "cell_type": "code",
   "execution_count": 3,
   "metadata": {},
   "outputs": [
    {
     "name": "stdout",
     "output_type": "stream",
     "text": [
      "Total stations:  558\n"
     ]
    }
   ],
   "source": [
    "# leaflet-marker-icon custom-div-icon map_markers station_status_live leaflet-zoom-animated leaflet-interactive\n",
    "all_station_markers = driver.find_elements(By.CLASS_NAME, 'leaflet-marker-icon')\n",
    "\n",
    "all_stations_len = len(all_station_markers)\n",
    "print(\"Total stations: \", all_stations_len)"
   ]
  },
  {
   "cell_type": "code",
   "execution_count": 4,
   "metadata": {},
   "outputs": [
    {
     "data": {
      "application/vnd.jupyter.widget-view+json": {
       "model_id": "bbbf6e731094473995e1a676b3f8c5a4",
       "version_major": 2,
       "version_minor": 0
      },
      "text/plain": [
       "Progress:   0%|          | 0/558 [00:00<?, ?it/s]"
      ]
     },
     "metadata": {},
     "output_type": "display_data"
    },
    {
     "ename": "KeyboardInterrupt",
     "evalue": "",
     "output_type": "error",
     "traceback": [
      "\u001b[0;31m---------------------------------------------------------------------------\u001b[0m",
      "\u001b[0;31mKeyboardInterrupt\u001b[0m                         Traceback (most recent call last)",
      "Cell \u001b[0;32mIn[4], line 12\u001b[0m\n\u001b[1;32m     10\u001b[0m marker \u001b[38;5;241m=\u001b[39m all_station_markers[marker_id]\n\u001b[1;32m     11\u001b[0m driver\u001b[38;5;241m.\u001b[39mexecute_script(\u001b[38;5;124m\"\u001b[39m\u001b[38;5;124marguments[0].click();\u001b[39m\u001b[38;5;124m\"\u001b[39m, marker)\n\u001b[0;32m---> 12\u001b[0m \u001b[43mWebDriverWait\u001b[49m\u001b[43m(\u001b[49m\u001b[43mdriver\u001b[49m\u001b[43m,\u001b[49m\u001b[43m \u001b[49m\u001b[38;5;241;43m10\u001b[39;49m\u001b[43m)\u001b[49m\u001b[38;5;241;43m.\u001b[39;49m\u001b[43muntil\u001b[49m\u001b[43m(\u001b[49m\u001b[43mEC\u001b[49m\u001b[38;5;241;43m.\u001b[39;49m\u001b[43melement_to_be_clickable\u001b[49m\u001b[43m(\u001b[49m\u001b[43m(\u001b[49m\u001b[43mBy\u001b[49m\u001b[38;5;241;43m.\u001b[39;49m\u001b[43mCLASS_NAME\u001b[49m\u001b[43m,\u001b[49m\u001b[43m \u001b[49m\u001b[38;5;124;43m'\u001b[39;49m\u001b[38;5;124;43mclose\u001b[39;49m\u001b[38;5;124;43m'\u001b[39;49m\u001b[43m)\u001b[49m\u001b[43m)\u001b[49m\u001b[43m)\u001b[49m\n\u001b[1;32m     13\u001b[0m children \u001b[38;5;241m=\u001b[39m driver\u001b[38;5;241m.\u001b[39mfind_elements(By\u001b[38;5;241m.\u001b[39mCLASS_NAME, \u001b[38;5;124m\"\u001b[39m\u001b[38;5;124mcol-md-12\u001b[39m\u001b[38;5;124m\"\u001b[39m)\n\u001b[1;32m     14\u001b[0m \u001b[38;5;28;01massert\u001b[39;00m \u001b[38;5;124m\"\u001b[39m\u001b[38;5;124mStation Name\u001b[39m\u001b[38;5;124m\"\u001b[39m \u001b[38;5;129;01min\u001b[39;00m children[\u001b[38;5;241m3\u001b[39m]\u001b[38;5;241m.\u001b[39mtext\n",
      "File \u001b[0;32m/opt/miniconda3/lib/python3.12/site-packages/selenium/webdriver/support/wait.py:102\u001b[0m, in \u001b[0;36mWebDriverWait.until\u001b[0;34m(self, method, message)\u001b[0m\n\u001b[1;32m    100\u001b[0m     screen \u001b[38;5;241m=\u001b[39m \u001b[38;5;28mgetattr\u001b[39m(exc, \u001b[38;5;124m\"\u001b[39m\u001b[38;5;124mscreen\u001b[39m\u001b[38;5;124m\"\u001b[39m, \u001b[38;5;28;01mNone\u001b[39;00m)\n\u001b[1;32m    101\u001b[0m     stacktrace \u001b[38;5;241m=\u001b[39m \u001b[38;5;28mgetattr\u001b[39m(exc, \u001b[38;5;124m\"\u001b[39m\u001b[38;5;124mstacktrace\u001b[39m\u001b[38;5;124m\"\u001b[39m, \u001b[38;5;28;01mNone\u001b[39;00m)\n\u001b[0;32m--> 102\u001b[0m \u001b[43mtime\u001b[49m\u001b[38;5;241;43m.\u001b[39;49m\u001b[43msleep\u001b[49m\u001b[43m(\u001b[49m\u001b[38;5;28;43mself\u001b[39;49m\u001b[38;5;241;43m.\u001b[39;49m\u001b[43m_poll\u001b[49m\u001b[43m)\u001b[49m\n\u001b[1;32m    103\u001b[0m \u001b[38;5;28;01mif\u001b[39;00m time\u001b[38;5;241m.\u001b[39mmonotonic() \u001b[38;5;241m>\u001b[39m end_time:\n\u001b[1;32m    104\u001b[0m     \u001b[38;5;28;01mbreak\u001b[39;00m\n",
      "\u001b[0;31mKeyboardInterrupt\u001b[0m: "
     ]
    }
   ],
   "source": [
    "def get_after(string, phrase):\n",
    "    return string[string.index(phrase) + len(phrase):]\n",
    "\n",
    "data = {}\n",
    "all_station_markers = driver.find_elements(By.CLASS_NAME, 'leaflet-marker-icon')\n",
    "marker_id = 0\n",
    "progress_bar = tqdm(total=all_stations_len, desc=\"Progress\")\n",
    "while marker_id < all_stations_len:\n",
    "    try:\n",
    "        marker = all_station_markers[marker_id]\n",
    "        driver.execute_script(\"arguments[0].click();\", marker)\n",
    "        WebDriverWait(driver, 10).until(EC.element_to_be_clickable((By.CLASS_NAME, 'close')))\n",
    "        children = driver.find_elements(By.CLASS_NAME, \"col-md-12\")\n",
    "        assert \"Station Name\" in children[3].text\n",
    "        \n",
    "        # parse it\n",
    "    \n",
    "        station, address, location = children[3].text.split('\\n')\n",
    "        station = get_after(station, \"Station Name: \")\n",
    "        address = get_after(address, \"Address: \")\n",
    "        latitude, longitude = location.split(\",\")\n",
    "        latitude = get_after(latitude, \"Latitude: \")\n",
    "        longitude = get_after(longitude, \"Longitude: \")\n",
    "        \n",
    "        data[station] = {\"address\": address, \"latitude\": float(latitude), \"longitude\": float(longitude)}\n",
    "        close = driver.find_element(By.CLASS_NAME, \"close\")\n",
    "        close.click()\n",
    "        sleep(0.5)\n",
    "        marker_id += 1\n",
    "        progress_bar.update(1)\n",
    "    except Exception as e:\n",
    "        driver.refresh()\n",
    "        input(\"Please manually solve the Captcha\")\n",
    "        all_station_markers = driver.find_elements(By.CLASS_NAME, 'leaflet-marker-icon')"
   ]
  },
  {
   "cell_type": "code",
   "execution_count": 8,
   "metadata": {},
   "outputs": [
    {
     "data": {
      "text/html": [
       "<div>\n",
       "<style scoped>\n",
       "    .dataframe tbody tr th:only-of-type {\n",
       "        vertical-align: middle;\n",
       "    }\n",
       "\n",
       "    .dataframe tbody tr th {\n",
       "        vertical-align: top;\n",
       "    }\n",
       "\n",
       "    .dataframe thead th {\n",
       "        text-align: right;\n",
       "    }\n",
       "</style>\n",
       "<table border=\"1\" class=\"dataframe\">\n",
       "  <thead>\n",
       "    <tr style=\"text-align: right;\">\n",
       "      <th></th>\n",
       "      <th>address</th>\n",
       "      <th>latitude</th>\n",
       "      <th>longitude</th>\n",
       "    </tr>\n",
       "    <tr>\n",
       "      <th>station</th>\n",
       "      <th></th>\n",
       "      <th></th>\n",
       "      <th></th>\n",
       "    </tr>\n",
       "  </thead>\n",
       "  <tbody>\n",
       "    <tr>\n",
       "      <th>SIDCO Kurichi, Coimbatore - TNPCB</th>\n",
       "      <td>SIDCO Kurichi, Coimbatore, Tamil Nadu.</td>\n",
       "      <td>10.942451</td>\n",
       "      <td>76.978996</td>\n",
       "    </tr>\n",
       "    <tr>\n",
       "      <th>Muradpur, Patna - BSPCB</th>\n",
       "      <td>S K Memorial Hall Premises, Near Gandhi Maidan...</td>\n",
       "      <td>25.619651</td>\n",
       "      <td>85.147382</td>\n",
       "    </tr>\n",
       "  </tbody>\n",
       "</table>\n",
       "</div>"
      ],
      "text/plain": [
       "                                                                             address  \\\n",
       "station                                                                                \n",
       "SIDCO Kurichi, Coimbatore - TNPCB             SIDCO Kurichi, Coimbatore, Tamil Nadu.   \n",
       "Muradpur, Patna - BSPCB            S K Memorial Hall Premises, Near Gandhi Maidan...   \n",
       "\n",
       "                                    latitude  longitude  \n",
       "station                                                  \n",
       "SIDCO Kurichi, Coimbatore - TNPCB  10.942451  76.978996  \n",
       "Muradpur, Patna - BSPCB            25.619651  85.147382  "
      ]
     },
     "execution_count": 8,
     "metadata": {},
     "output_type": "execute_result"
    }
   ],
   "source": [
    "df = pd.DataFrame(data).T\n",
    "df.index.name = \"station\"\n",
    "df.head(2)"
   ]
  },
  {
   "cell_type": "code",
   "execution_count": 9,
   "metadata": {},
   "outputs": [],
   "source": [
    "df.to_csv(\"station_data.csv\")"
   ]
  }
 ],
 "metadata": {
  "kernelspec": {
   "display_name": "base",
   "language": "python",
   "name": "python3"
  },
  "language_info": {
   "codemirror_mode": {
    "name": "ipython",
    "version": 3
   },
   "file_extension": ".py",
   "mimetype": "text/x-python",
   "name": "python",
   "nbconvert_exporter": "python",
   "pygments_lexer": "ipython3",
   "version": "3.12.2"
  }
 },
 "nbformat": 4,
 "nbformat_minor": 2
}
