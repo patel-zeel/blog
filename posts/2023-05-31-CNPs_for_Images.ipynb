{
 "cells": [
  {
   "attachments": {},
   "cell_type": "markdown",
   "metadata": {},
   "source": [
    "---\n",
    "author: Zeel B Patel\n",
    "badges: true\n",
    "categories: ML\n",
    "description: Extreme Image Interpolation with Conditional Neural processes\n",
    "title: Conditional Neural Processes for Image Interpolation\n",
    "date: '2023-05-31'\n",
    "toc: true\n",
    "---"
   ]
  },
  {
   "cell_type": "code",
   "execution_count": 56,
   "metadata": {},
   "outputs": [],
   "source": [
    "import os\n",
    "os.environ[\"CUDA_VISIBLE_DEVICES\"] = \"0\"\n",
    "# turn off preallocation by JAX\n",
    "os.environ[\"XLA_PYTHON_CLIENT_PREALLOCATE\"] = \"false\"\n",
    "\n",
    "import numpy as np\n",
    "import pandas as pd\n",
    "\n",
    "from tqdm import tqdm\n",
    "import jax\n",
    "import jax.numpy as jnp\n",
    "import flax.linen as nn\n",
    "\n",
    "import distrax as dx\n",
    "\n",
    "import optax\n",
    "\n",
    "# load mnist dataset from tensorflow datasets\n",
    "import tensorflow_datasets as tfds\n",
    "\n",
    "from sklearn.model_selection import train_test_split\n",
    "\n",
    "import matplotlib.pyplot as plt"
   ]
  },
  {
   "cell_type": "code",
   "execution_count": 57,
   "metadata": {},
   "outputs": [],
   "source": [
    "# define initializers\n",
    "def first_layer_init(key, shape, dtype=jnp.float32):\n",
    "    num_input = shape[0]  # reverse order compared to torch\n",
    "    return jax.random.uniform(key, shape, dtype, minval=-1.0/num_input, maxval=1.0/num_input)\n",
    "\n",
    "def other_layers_init(key, shape, dtype=jnp.float32):\n",
    "    num_input = shape[0]  # reverse order compared to torch\n",
    "    return jax.random.uniform(key, shape, dtype, minval=-np.sqrt(6 / num_input)/30, maxval=np.sqrt(6 / num_input)/30)\n",
    "\n",
    "class Encoder(nn.Module):\n",
    "  features: list\n",
    "  encoding_dims: int\n",
    "\n",
    "  @nn.compact\n",
    "  def __call__(self, x_context, y_context):\n",
    "    x = jnp.hstack([x_context, y_context.reshape(x_context.shape[0], -1)])\n",
    "    \n",
    "    x = nn.Dense(self.features[0], kernel_init=first_layer_init, bias_init=first_layer_init)(x)\n",
    "    x = jnp.sin(30*x)\n",
    "    # x = nn.Dense(self.features[0])(x)\n",
    "    # x = nn.relu(x)\n",
    "    \n",
    "    \n",
    "    for n_features in self.features[1:]:\n",
    "      x = nn.Dense(n_features, kernel_init=other_layers_init, bias_init=other_layers_init)(x)\n",
    "      x = jnp.sin(30*x)\n",
    "      # x = nn.Dense(n_features)(x)\n",
    "      # x = nn.relu(x)\n",
    "\n",
    "    x = nn.Dense(self.encoding_dims)(x)\n",
    "\n",
    "    representation = x.mean(axis=0, keepdims=True)   # option 1\n",
    "    return representation  # (1, encoding_dims)\n",
    "\n",
    "class Decoder(nn.Module):\n",
    "  features: list\n",
    "  output_dim: int\n",
    "\n",
    "  @nn.compact\n",
    "  def __call__(self, representation, x):\n",
    "    representation = jnp.repeat(representation, x.shape[0], axis=0)\n",
    "    x = jnp.hstack([representation, x])\n",
    "    \n",
    "    x = nn.Dense(self.features[0], kernel_init=first_layer_init, bias_init=first_layer_init)(x)\n",
    "    x = jnp.sin(30*x)\n",
    "    # x = nn.Dense(self.features[0])(x)\n",
    "    # x = nn.relu(x)\n",
    "\n",
    "    for n_features in self.features:\n",
    "      x = nn.Dense(n_features, kernel_init=other_layers_init, bias_init=other_layers_init)(x)\n",
    "      x = jnp.sin(30*x)\n",
    "      # x = nn.Dense(n_features)(x)\n",
    "      # x = nn.relu(x)\n",
    "\n",
    "    x = nn.Dense(self.output_dim*2)(x)\n",
    "    loc, raw_scale = x[:, :self.output_dim], x[:, self.output_dim:]\n",
    "    scale = jnp.exp(raw_scale)\n",
    "    \n",
    "    return loc, scale\n",
    "\n",
    "class CNP(nn.Module):\n",
    "  encoder_features: list\n",
    "  encoding_dims: int\n",
    "  decoder_features: list\n",
    "  output_dim: int\n",
    "\n",
    "  @nn.compact\n",
    "  def __call__(self, x_content, y_context, x_target):\n",
    "    representation = Encoder(self.encoder_features, self.encoding_dims)(x_content, y_context)\n",
    "    loc, scale = Decoder(self.decoder_features, self.output_dim)(representation, x_target)\n",
    "    return loc, scale\n",
    "\n",
    "  def loss_fn(self, params, x_context, y_context, x_target, y_target):\n",
    "    loc, scale = self.apply(params, x_context, y_context, x_target)\n",
    "    predictive_distribution = dx.MultivariateNormalDiag(loc=loc, scale_diag=0.005+scale)\n",
    "    return -predictive_distribution.log_prob(y_target)"
   ]
  },
  {
   "attachments": {},
   "cell_type": "markdown",
   "metadata": {},
   "source": [
    "## Load MNIST"
   ]
  },
  {
   "cell_type": "code",
   "execution_count": 58,
   "metadata": {},
   "outputs": [],
   "source": [
    "ds = tfds.load('mnist')"
   ]
  },
  {
   "cell_type": "code",
   "execution_count": 59,
   "metadata": {},
   "outputs": [
    {
     "name": "stderr",
     "output_type": "stream",
     "text": [
      "2023-06-02 09:58:48.609001: W tensorflow/core/kernels/data/cache_dataset_ops.cc:856] The calling iterator did not fully read the dataset being cached. In order to avoid unexpected truncation of the dataset, the partially cached contents of the dataset  will be discarded. This can happen if you have an input pipeline similar to `dataset.cache().take(k).repeat()`. You should use `dataset.take(k).cache().repeat()` instead.\n",
      "2023-06-02 09:58:48.681190: W tensorflow/core/kernels/data/cache_dataset_ops.cc:856] The calling iterator did not fully read the dataset being cached. In order to avoid unexpected truncation of the dataset, the partially cached contents of the dataset  will be discarded. This can happen if you have an input pipeline similar to `dataset.cache().take(k).repeat()`. You should use `dataset.take(k).cache().repeat()` instead.\n"
     ]
    },
    {
     "data": {
      "text/plain": [
       "((100, 28, 28, 1), (100, 1), (100, 28, 28, 1), (100, 1))"
      ]
     },
     "execution_count": 59,
     "metadata": {},
     "output_type": "execute_result"
    }
   ],
   "source": [
    "def dataset_to_arrays(dataset):\n",
    "    data = []\n",
    "    labels = []\n",
    "    stopper = 0\n",
    "    end = 100\n",
    "    for sample in dataset:\n",
    "        data.append(sample[\"image\"].numpy())\n",
    "        labels.append(sample[\"label\"].numpy())\n",
    "        stopper += 1\n",
    "        if stopper == end:\n",
    "            break\n",
    "    return np.array(data), np.array(labels)[..., None]\n",
    "\n",
    "train_data, train_labels = dataset_to_arrays(ds[\"train\"])\n",
    "test_data, test_labels = dataset_to_arrays(ds[\"test\"])\n",
    "\n",
    "train_data.shape, train_labels.shape, test_data.shape, test_labels.shape"
   ]
  },
  {
   "cell_type": "code",
   "execution_count": 60,
   "metadata": {},
   "outputs": [
    {
     "data": {
      "text/plain": [
       "((784, 2),\n",
       " (100, 784, 1),\n",
       " jaxlib.xla_extension.ArrayImpl,\n",
       " jaxlib.xla_extension.ArrayImpl)"
      ]
     },
     "execution_count": 60,
     "metadata": {},
     "output_type": "execute_result"
    }
   ],
   "source": [
    "coords = np.linspace(-1, 1, 28)\n",
    "x, y = np.meshgrid(coords, coords)\n",
    "train_X = jnp.stack([x, y], axis=-1).reshape(-1, 2)\n",
    "\n",
    "train_y = jax.vmap(lambda x: x.reshape(-1, 1))(train_data) / 255.0\n",
    "train_X.shape, train_y.shape, type(train_X), type(train_y)"
   ]
  },
  {
   "cell_type": "code",
   "execution_count": 61,
   "metadata": {},
   "outputs": [],
   "source": [
    "iterations = 10000\n",
    "\n",
    "def loss_fn(params, context_X, context_y, target_X, target_y):\n",
    "  def loss_fn_per_sample(context_X, context_y, target_X, target_y):\n",
    "    loc, scale = model.apply(params, context_X, context_y, target_X)\n",
    "    # predictive_distribution = dx.MultivariateNormalDiag(loc=loc, scale_diag=scale)\n",
    "    # return -predictive_distribution.log_prob(target_y)\n",
    "    return jnp.square(loc.ravel() - target_y.ravel()).mean()\n",
    "  \n",
    "  return jax.vmap(loss_fn_per_sample, in_axes=(None, 0, None, 0))(context_X, context_y, target_X, target_y).mean()\n",
    "\n",
    "value_and_grad_fn = jax.jit(jax.value_and_grad(loss_fn))\n",
    "model = CNP([256]*2, 128, [256]*4, 1)\n",
    "params = model.init(jax.random.PRNGKey(0), train_X, train_y[0], train_X)\n",
    "optimizer = optax.adam(1e-5)\n",
    "state = optimizer.init(params)\n",
    "\n",
    "# losses = []\n",
    "# for iter in tqdm(range(iterations)):\n",
    "#   tmp_index = jax.random.permutation(jax.random.PRNGKey(iter), index)\n",
    "#   context_X = train_X[tmp_index][:int(train_X.shape[0]*0.05)]\n",
    "#   context_y = train_y[:, tmp_index, :][:, :int(train_X.shape[0]*0.05), :]\n",
    "#   target_X = train_X[tmp_index][int(train_X.shape[0]*0.05):]\n",
    "#   target_y = train_y[:, tmp_index, :][:, int(train_X.shape[0]*0.05):, :]\n",
    "  \n",
    "#   # print(context_X.shape, context_y.shape, target_X.shape, target_y.shape)\n",
    "#   # print(loss_fn(params, context_X, context_y, target_X, target_y).shape)\n",
    "  \n",
    "#   loss, grads = value_and_grad_fn(params, context_X, context_y, target_X, target_y)\n",
    "#   updates, state = optimizer.update(grads, state)\n",
    "#   params = optax.apply_updates(params, updates)\n",
    "#   losses.append(loss.item())\n",
    "\n",
    "def one_step(params_and_state, key):\n",
    "  params, state = params_and_state\n",
    "  tmp_index = jax.random.permutation(key, train_X.shape[0])\n",
    "  context_X = train_X[tmp_index][:int(train_X.shape[0]*0.05)]\n",
    "  context_y = train_y[:, tmp_index, :][:, :int(train_X.shape[0]*0.05), :]\n",
    "  target_X = train_X[tmp_index][int(train_X.shape[0]*0.05):]\n",
    "  target_y = train_y[:, tmp_index, :][:, int(train_X.shape[0]*0.05):, :]\n",
    "  loss, grads = value_and_grad_fn(params, context_X, context_y, target_X, target_y)\n",
    "  updates, state = optimizer.update(grads, state)\n",
    "  params = optax.apply_updates(params, updates)\n",
    "  return (params, state), loss\n",
    "\n",
    "(params, state), loss_history = jax.lax.scan(one_step, (params, state), jax.random.split(jax.random.PRNGKey(0), iterations))"
   ]
  },
  {
   "cell_type": "code",
   "execution_count": 62,
   "metadata": {},
   "outputs": [
    {
     "data": {
      "image/png": "[encoded data removed]",
      "text/plain": [
       "<Figure size 432x288 with 1 Axes>"
      ]
     },
     "metadata": {
      "needs_background": "light"
     },
     "output_type": "display_data"
    }
   ],
   "source": [
    "plt.plot(loss_history[10:]);"
   ]
  },
  {
   "cell_type": "code",
   "execution_count": 63,
   "metadata": {},
   "outputs": [
    {
     "data": {
      "image/png": "[encoded data removed]",
      "text/plain": [
       "<Figure size 432x288 with 1 Axes>"
      ]
     },
     "metadata": {
      "needs_background": "light"
     },
     "output_type": "display_data"
    },
    {
     "data": {
      "image/png": "[encoded data removed]",
      "text/plain": [
       "<Figure size 432x288 with 1 Axes>"
      ]
     },
     "metadata": {
      "needs_background": "light"
     },
     "output_type": "display_data"
    }
   ],
   "source": [
    "test_key = jax.random.PRNGKey(0)\n",
    "tmp_index = jax.random.permutation(test_key, train_X.shape[0])\n",
    "context_X = train_X[tmp_index][:int(train_X.shape[0]*0.5)]\n",
    "context_y = train_y[:, tmp_index, :][:, :int(train_X.shape[0]*0.5), :]\n",
    "target_X = train_X#[tmp_index][int(train_X.shape[0]*0.5):]\n",
    "target_y = train_y#[:, tmp_index, :][:, int(train_X.shape[0]*0.5):, :]\n",
    "\n",
    "id = 91\n",
    "plt.imshow(train_y[id].reshape(28, 28), cmap=\"gray\", interpolation=None);\n",
    "\n",
    "locs, scales = jax.vmap(model.apply, in_axes=(None, None, 0, None))(params, context_X, context_y, target_X)\n",
    "# full_preds = jnp.concatenate([context_y, locs], axis=1)\n",
    "# full_preds = full_preds.at[:, tmp_index, :].set(full_preds).__array__()\n",
    "\n",
    "plt.figure()\n",
    "plt.imshow(locs[id].reshape(28, 28), cmap=\"gray\", interpolation=None);"
   ]
  }
 ],
 "metadata": {
  "kernelspec": {
   "display_name": "jax_gpu",
   "language": "python",
   "name": "python3"
  },
  "language_info": {
   "codemirror_mode": {
    "name": "ipython",
    "version": 3
   },
   "file_extension": ".py",
   "mimetype": "text/x-python",
   "name": "python",
   "nbconvert_exporter": "python",
   "pygments_lexer": "ipython3",
   "version": "3.9.12"
  },
  "orig_nbformat": 4
 },
 "nbformat": 4,
 "nbformat_minor": 2
}
