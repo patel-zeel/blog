{
 "cells": [
  {
   "cell_type": "markdown",
   "metadata": {},
   "source": [
    "---\n",
    "author: Zeel B Patel\n",
    "badges: true\n",
    "categories:\n",
    "  - ML\n",
    "date: \"2025-04-24\"\n",
    "description: Preparing for ML Breadth and Depth for Interviews\n",
    "title: Machine Learning Cheat Sheet\n",
    "toc: true\n",
    "---\n"
   ]
  },
  {
   "cell_type": "markdown",
   "metadata": {},
   "source": [
    "## Classification\n"
   ]
  },
  {
   "cell_type": "markdown",
   "metadata": {},
   "source": [
    "### Logistic Regression\n"
   ]
  },
  {
   "cell_type": "markdown",
   "metadata": {},
   "source": [
    "| Entity   | Math             | Shape  | Type       |\n",
    "| :------- | :--------------- | :----- | :--------- |\n",
    "| Features | $X$              | (n, d) | Continuous |\n",
    "| Weights  | $W$              | (d, 1) | Continuous |\n",
    "| Bias     | $b$              | (1, 1) | Continuous |\n",
    "| Output   | $\\boldsymbol{y}$ | (n, 1) | Binary     |\n",
    "\n",
    "\\begin{align*}\n",
    "\\hat{\\boldsymbol{y}} &= \\sigma(XW + b) \\\\\n",
    "&= \\sigma(\\underbrace{X}*{n \\times d} \\underbrace{W}_{d \\times 1} + \\underbrace{b}_{1}) \\\\\n",
    "&= \\sigma(\\underbrace{z}_{n \\times 1}) \\\\\n",
    "\\text{where } \\sigma(z) &= \\frac{1}{1 + e^{-z}}\n",
    "\\end{align*}\n",
    "\n",
    "\\begin{align*}\n",
    "\\text{Loss} = -\\frac{1}{n} \\sum_{i=1}^{n}\n",
    "\\begin{cases}\n",
    "\\log(\\hat{y}_i) & \\text{if } y_i = 1 \\\\\n",
    "\\log(1 - \\hat{y}_i) & \\text{if } y_i = 0\n",
    "\\end{cases}\n",
    "\\end{align*}\n"
   ]
  },
  {
   "cell_type": "markdown",
   "metadata": {},
   "source": [
    "Another way to write the loss function is:\n",
    "\n",
    "\\begin{align*}\n",
    "\\text{Loss} = -\\frac{1}{n} \\sum\\_{i=1}^{n} y_i \\log(\\hat{y}\\_i) + (1 - y_i) \\log(1 - \\hat{y}\\_i)\n",
    "\\end{align*}\n"
   ]
  },
  {
   "cell_type": "markdown",
   "metadata": {},
   "source": [
    "### Multi-Class Logistic Regression\n",
    "| Entity   | Math             | Shape  | Type       |\n",
    "| :------- | :--------------- | :----- | :--------- |\n",
    "| Features | $X$              | (n, d) | Continuous |\n",
    "| Weights  | $W$              | (d, k) | Continuous |\n",
    "| Bias     | $b$              | (1, k) | Continuous |\n",
    "| Output   | $\\boldsymbol{y}$ | (n, k) | Categorical |\n",
    "\n",
    "\\begin{align*}\n",
    "\\hat{\\boldsymbol{y}} &= \\text{softmax}(XW + b) \\\\\n",
    "&= \\text{softmax}(\\underbrace{X}_{n \\times d} \\underbrace{W}_{d \\times k} + \\underbrace{b}_{1 \\times k}) \\\\\n",
    "&= \\text{softmax}(\\underbrace{z}_{n \\times k}) \\\\\n",
    "\\text{where } \\text{softmax}(z) &= \\frac{e^{z_i}}{\\sum_{j=1}^{k} e^{z_j}}\n",
    "\\end{align*}\n",
    "\n",
    "\\begin{align*}\n",
    "\\text{Loss} = -\\frac{1}{n} \\sum_{i=1}^{n} \\sum_{j=1}^{k} y_{ij} \\log(\\hat{y}_{ij})\n",
    "\\end{align*}"
   ]
  },
  {
   "cell_type": "markdown",
   "metadata": {},
   "source": [
    "### Metrics\n",
    "| Metric         | Formula                                                                 |\n",
    "| :------------- | :--------------------------------------------------------------------- |\n",
    "| Accuracy       | $\\frac{TP + TN}{TP + TN + FP + FN}$                                   |\n",
    "| Precision      | $\\frac{TP}{TP + FP}$                                                   |\n",
    "| Recall         | $\\frac{TP}{TP + FN}$                                                   |\n",
    "| F1 Score      | $2 \\cdot \\frac{Precision \\cdot Recall}{Precision + Recall}$            |\n",
    "| False Positive Rate | $\\frac{FP}{FP + TN}$                                                   |\n",
    "| True Positive Rate | $\\frac{TP}{TP + FN}$                                                   |\n",
    "| ROC curve | Plot of True Positive Rate vs False Positive Rate (X-axis is FPR, Y-axis is TPR) |\n",
    "| AUC-ROC | Area under the ROC curve (1 is perfect, 0.5 is random guessing, 0 is worst) |\n",
    "| Matthews Correlation Coefficient | $\\frac{TP \\cdot TN - FP \\cdot FN}{\\sqrt{(TP + FP)(TP + FN)(TN + FP)(TN + FN)}}$ |\n",
    "| Cohen's Kappa | $\\frac{P_o - P_e}{1 - P_e}$ where $P_o$ is observed accuracy and $P_e$ is expected accuracy |"
   ]
  },
  {
   "cell_type": "markdown",
   "metadata": {},
   "source": [
    "#### Accuracy\n",
    "\n",
    "\\begin{align*}\n",
    "\\text{Accuracy} &= \\frac{\\text{Correct Predictions}}{\\text{Total Predictions}} \\\\\n",
    "&= \\frac{TP + TN}{TP + TN + FP + FN}\n",
    "\\end{align*}\n",
    "\n",
    "#### Precision\n",
    "\n",
    "\\begin{align*}\n",
    "\\text{Precision} &= \\frac{\\text{True Positives}}{\\text{Predicted Positives}} \\\\\n",
    "&= \\frac{TP}{TP + FP}\n",
    "\\end{align*}\n",
    "\n",
    "#### Recall\n",
    "\n",
    "\\begin{align*}\n",
    "\\text{Recall} &= \\frac{\\text{True Positives}}{\\text{Actual Positives}} \\\\\n",
    "&= \\frac{TP}{TP + FN}\n",
    "\\end{align*}\n",
    "\n",
    "#### F1 Score\n",
    "\n",
    "Harmonic mean of precision and recall.\n",
    "\n",
    "\\begin{align*}\n",
    "\\text{F1 Score} &= 2 \\cdot \\frac{\\text{Precision} \\cdot \\text{Recall}}{\\text{Precision} + \\text{Recall}} \\\\\n",
    "&= \\frac{2TP}{2TP + FP + FN}\n",
    "\\end{align*}\n",
    "\n",
    "#### Matthews Correlation Coefficient\n",
    "Similar to Pearson correlation coefficient, but for binary classification.\n",
    "\n",
    "> The Matthews correlation coefficient (MCC) is pearson correlation coefficient between the observed and predicted binary classifications.\n",
    "\n",
    "Derivation: (Homework)\n",
    "\n",
    "#### Cohen's Kappa\n",
    "Definition: Cohen's Kappa is a statistic that measures agreement between two rates while correcting for chance.\n",
    "Range: -1 to 1\n",
    "- 1: Total disagreement\n",
    "- 0: Random agreement\n",
    "- 1: Perfect agreement\n",
    "\n",
    "Formula:\n",
    "\n",
    "\\begin{align*}\n",
    "\\text{Cohen's Kappa} &= \\frac{P_o - P_e}{1 - P_e} \\\\\n",
    "P_o &= \\text{Accuracy} \\\\\n",
    "P_e &= \\sum_{i=1}^{k} \\frac{\\text{predicted}_i}{\\text{total samples}} \\cdot \\frac{\\text{actual}_i}{\\text{total samples}}\n",
    "\\end{align*}"
   ]
  }
 ],
 "metadata": {
  "kernelspec": {
   "display_name": "zeel_py310",
   "language": "python",
   "name": "python3"
  },
  "language_info": {
   "codemirror_mode": {
    "name": "ipython",
    "version": 3
   },
   "file_extension": ".py",
   "mimetype": "text/x-python",
   "name": "python",
   "nbconvert_exporter": "python",
   "pygments_lexer": "ipython3",
   "version": "3.10.15"
  }
 },
 "nbformat": 4,
 "nbformat_minor": 4
}
