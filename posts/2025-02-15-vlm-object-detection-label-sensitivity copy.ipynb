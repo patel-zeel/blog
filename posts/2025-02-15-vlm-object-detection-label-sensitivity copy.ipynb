{
 "cells": [
  {
   "cell_type": "markdown",
   "metadata": {},
   "source": [
    "---\n",
    "author: Zeel B Patel\n",
    "badges: true\n",
    "categories:\n",
    "  - ML\n",
    "  - CV\n",
    "  - VLM\n",
    "date: \"2025-02-15\"\n",
    "description: Exploring the \"language\" part of VLM (Florence-2) for object detection\n",
    "title: Effect of Class Names on VLM Object Detection\n",
    "toc: true\n",
    "---\n"
   ]
  },
  {
   "cell_type": "markdown",
   "metadata": {},
   "source": [
    "# Installation"
   ]
  },
  {
   "cell_type": "code",
   "execution_count": 1,
   "metadata": {},
   "outputs": [],
   "source": [
    "try:\n",
    "    import maestro\n",
    "except ModuleNotFoundError:\n",
    "    %pip install \"maestro[florence_2]\""
   ]
  },
  {
   "cell_type": "markdown",
   "metadata": {},
   "source": [
    "# Imports"
   ]
  },
  {
   "cell_type": "code",
   "execution_count": 2,
   "metadata": {},
   "outputs": [
    {
     "data": {
      "text/plain": [
       "True"
      ]
     },
     "execution_count": 2,
     "metadata": {},
     "output_type": "execute_result"
    }
   ],
   "source": [
    "# Config\n",
    "import os\n",
    "import numpy as np\n",
    "from tqdm.notebook import tqdm\n",
    "\n",
    "from roboflow import Roboflow\n",
    "from maestro.trainer.common.datasets import RoboflowJSONLDataset\n",
    "from maestro.trainer.models.florence_2.inference import predict\n",
    "from maestro.trainer.models.florence_2.checkpoints import (\n",
    "    OptimizationStrategy, load_model)\n",
    "import supervision as sv\n",
    "from PIL import Image\n",
    "\n",
    "from dotenv import load_dotenv\n",
    "load_dotenv()"
   ]
  },
  {
   "cell_type": "markdown",
   "metadata": {},
   "source": [
    "# Ice Breaker\n",
    "- VLMs are useful for object detection in [zero-shot](https://github.com/roboflow/notebooks/blob/main/notebooks/how-to-run-different-vision-tasks-with-florence-2.ipynb) and [fine-tuning](https://github.com/roboflow/notebooks/blob/main/notebooks/how-to-finetune-florence-2-on-detection-dataset.ipynb) settings.\n",
    "- Unlike traditional object detection models like YOLO, VLMs are sensitive to the class names due to the \"language\" part of the model.\n",
    "- In other words, VLMs are fundamentally made to connect the visual and language domains.\n",
    "- Thus, the following questions naturally arise:\n",
    "    - How VLM performance varies with variations in class names?"
   ]
  },
  {
   "cell_type": "markdown",
   "metadata": {},
   "source": [
    "# Build fine-tuning pipeline for Florence-2\n",
    "\n",
    "This part is adapted from [this Roboflow notebook](https://github.com/roboflow/notebooks/blob/main/notebooks/how-to-finetune-florence-2-on-detection-dataset.ipynb)."
   ]
  },
  {
   "cell_type": "markdown",
   "metadata": {},
   "source": [
    "## Download dataset"
   ]
  },
  {
   "cell_type": "code",
   "execution_count": 3,
   "metadata": {},
   "outputs": [
    {
     "name": "stdout",
     "output_type": "stream",
     "text": [
      "loading Roboflow workspace...\n",
      "loading Roboflow project...\n"
     ]
    }
   ],
   "source": [
    "ROBOFLOW_API_KEY = os.getenv('ROBOFLOW_API_KEY')\n",
    "rf = Roboflow(api_key=ROBOFLOW_API_KEY)\n",
    "\n",
    "project = rf.workspace(\"roboflow-jvuqo\").project(\"poker-cards-fmjio\")\n",
    "version = project.version(4)\n",
    "dataset = version.download(\"florence2-od\", \"/tmp/poker-cards-fmjio\")"
   ]
  },
  {
   "cell_type": "code",
   "execution_count": 4,
   "metadata": {},
   "outputs": [
    {
     "name": "stdout",
     "output_type": "stream",
     "text": [
      "{\"image\":\"IMG_20220316_172418_jpg.rf.e3cb4a86dc0247e71e3697aa3e9db923.jpg\",\"prefix\":\"<OD>\",\"suffix\":\"9 of clubs<loc_138><loc_100><loc_470><loc_448>10 of clubs<loc_388><loc_145><loc_670><loc_453>jack  of clubs<loc_566><loc_166><loc_823><loc_432>queen of clubs<loc_365><loc_465><loc_765><loc_999>king of clubs<loc_601><loc_440><loc_949><loc_873>\"}\n"
     ]
    }
   ],
   "source": [
    "!head -n 1 {dataset.location}/train/annotations.jsonl"
   ]
  },
  {
   "cell_type": "markdown",
   "metadata": {},
   "source": [
    "| Command | Type | Description |\n",
    "| --- | --- | --- |\n",
    "| --dataset | TEXT |Path to the dataset used for training [default: None] [required] |\n",
    "| --model_id | TEXT |Identifier for the Florence-2 model [default: microsoft/Florence-2-base-ft]    |\n",
    "| --revision | TEXT |Model revision to use [default: refs/pr/20] |\n",
    "| --device| TEXT |Device to use for training [default: auto]  |\n",
    "|    --optimization_strategy| TEXT |Optimization strategy: lora, freeze, or none [default: lora]     |\n",
    "|    --cache_dir| TEXT |Directory to cache the model weights locally [default: None]     |\n",
    "|    --epochs| INTEGER |Number of training epochs [default: 10]     |\n",
    "|    --lr| FLOAT |Learning rate for training [default: 1e-05] |\n",
    "|    --batch_size| INTEGER |Training batch size [default: 4]            |\n",
    "|    --accumulate_grad_batches| INTEGER |Number of batches to accumulate for gradient updates [default: 8]              |\n",
    "|    --val_batch_size| INTEGER |Validation batch size [default: None]       |\n",
    "|    --num_workers| INTEGER |Number of workers for data loading [default:|\n",
    "|    --val_num_workers| INTEGER |Number of workers for validation data loading [default: None]    |\n",
    "|    --output_dir| TEXT |Directory to store training outputs [default: ./training/florence_2]           |\n",
    "|    --metrics| TEXT |List of metrics to track during training    |\n",
    "|    --max_new_tokens| INTEGER |Maximum number of new tokens generated during inference [default: 1024]        |\n",
    "|    --random_seed| INTEGER |Random seed for ensuring reproducibility. If None, no seed is set [default: None] |"
   ]
  }
 ],
 "metadata": {
  "kernelspec": {
   "display_name": "zeel_py310",
   "language": "python",
   "name": "python3"
  },
  "language_info": {
   "codemirror_mode": {
    "name": "ipython",
    "version": 3
   },
   "file_extension": ".py",
   "mimetype": "text/x-python",
   "name": "python",
   "nbconvert_exporter": "python",
   "pygments_lexer": "ipython3",
   "version": "3.10.15"
  }
 },
 "nbformat": 4,
 "nbformat_minor": 2
}
