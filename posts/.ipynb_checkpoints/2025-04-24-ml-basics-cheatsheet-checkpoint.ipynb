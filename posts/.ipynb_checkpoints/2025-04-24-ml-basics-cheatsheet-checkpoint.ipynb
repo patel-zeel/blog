{
 "cells": [
  {
   "cell_type": "markdown",
   "metadata": {},
   "source": [
    "---\n",
    "author: Zeel B Patel\n",
    "badges: true\n",
    "categories:\n",
    "  - ML\n",
    "date: \"2025-04-24\"\n",
    "description: Preparing for ML Breadth and Depth for Interviews\n",
    "title: Machine Learning Cheat Sheet\n",
    "toc: true\n",
    "---\n"
   ]
  },
  {
   "cell_type": "markdown",
   "metadata": {},
   "source": [
    "## Classification\n"
   ]
  },
  {
   "cell_type": "markdown",
   "metadata": {},
   "source": [
    "### Logistic Regression\n"
   ]
  },
  {
   "cell_type": "markdown",
   "metadata": {},
   "source": [
    "| Entity   | Math             | Shape  | Type       |\n",
    "| :------- | :--------------- | :----- | :--------- |\n",
    "| Features | $X$              | (n, d) | Continuous |\n",
    "| Weights  | $W$              | (d, 1) | Continuous |\n",
    "| Bias     | $b$              | (1, 1) | Continuous |\n",
    "| Output   | $\\boldsymbol{y}$ | (n, 1) | Binary     |\n",
    "\n",
    "\\begin{align*}\n",
    "\\hat{\\boldsymbol{y}} &= \\sigma(XW + b) \\\\\n",
    "&= \\sigma(\\underbrace{X}*{n \\times d} \\underbrace{W}_{d \\times 1} + \\underbrace{b}_{1}) \\\\\n",
    "&= \\sigma(\\underbrace{z}_{n \\times 1}) \\\\\n",
    "\\text{where } \\sigma(z) &= \\frac{1}{1 + e^{-z}}\n",
    "\\end{align*}\n",
    "\n",
    "\\begin{align*}\n",
    "\\text{Loss} = -\\frac{1}{n} \\sum_{i=1}^{n}\n",
    "\\begin{cases}\n",
    "\\log(\\hat{y}_i) & \\text{if } y_i = 1 \\\\\n",
    "\\log(1 - \\hat{y}_i) & \\text{if } y_i = 0\n",
    "\\end{cases}\n",
    "\\end{align*}\n"
   ]
  },
  {
   "cell_type": "markdown",
   "metadata": {},
   "source": [
    "Another way to write the loss function is:\n",
    "\\begin{align*}\n",
    "\\text{Loss} = -\\frac{1}{n} \\sum_{i=1}^{n} y_i \\log(\\hat{y}_i) + (1 - y_i) \\log(1 - \\hat{y}_i)\n",
    "\\end{align*}\n"
   ]
  }
 ],
 "metadata": {
  "kernelspec": {
   "display_name": "zeel_py310",
   "language": "python",
   "name": "python3"
  },
  "language_info": {
   "codemirror_mode": {
    "name": "ipython",
    "version": 3
   },
   "file_extension": ".py",
   "mimetype": "text/x-python",
   "name": "python",
   "nbconvert_exporter": "python",
   "pygments_lexer": "ipython3",
   "version": "3.10.15"
  }
 },
 "nbformat": 4,
 "nbformat_minor": 4
}
